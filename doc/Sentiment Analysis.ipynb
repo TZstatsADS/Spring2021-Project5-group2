{
 "cells": [
  {
   "cell_type": "code",
   "execution_count": 359,
   "metadata": {},
   "outputs": [
    {
     "name": "stdout",
     "output_type": "stream",
     "text": [
      "Requirement already satisfied: gensim==3.8.3 in /Users/my_love/opt/anaconda3/lib/python3.8/site-packages (3.8.3)\n",
      "Requirement already satisfied: smart-open>=1.8.1 in /Users/my_love/opt/anaconda3/lib/python3.8/site-packages (from gensim==3.8.3) (5.0.0)\n",
      "Requirement already satisfied: scipy>=0.18.1 in /Users/my_love/opt/anaconda3/lib/python3.8/site-packages (from gensim==3.8.3) (1.5.2)\n",
      "Requirement already satisfied: numpy>=1.11.3 in /Users/my_love/opt/anaconda3/lib/python3.8/site-packages (from gensim==3.8.3) (1.19.2)\n",
      "Requirement already satisfied: six>=1.5.0 in /Users/my_love/opt/anaconda3/lib/python3.8/site-packages (from gensim==3.8.3) (1.15.0)\n"
     ]
    }
   ],
   "source": [
    "# !pip install vaderSentiment\n",
    "# !pip install -U textblob\n",
    "# !pip install swifter\n",
    "!pip install gensim==3.8.3"
   ]
  },
  {
   "cell_type": "code",
   "execution_count": 360,
   "metadata": {},
   "outputs": [],
   "source": [
    "from nltk.corpus import stopwords\n",
    "import matplotlib.pyplot as plt\n",
    "from textblob import TextBlob\n",
    "import seaborn as sns\n",
    "from tqdm import tqdm\n",
    "from time import time\n",
    "import pandas as pd\n",
    "import numpy as np\n",
    "import regex as re\n",
    "import unicodedata\n",
    "import swifter\n",
    "import gc\n",
    "import json\n",
    "\n",
    "import nltk\n",
    "sns.set_style('white')\n",
    "\n",
    "from vaderSentiment.vaderSentiment import SentimentIntensityAnalyzer\n",
    "from sklearn.feature_extraction.text import TfidfVectorizer\n",
    "from gensim.models.phrases import Phrases, Phraser\n",
    "from nltk.tokenize import TweetTokenizer\n",
    "from gensim.models import Word2Vec\n",
    "from sklearn.cluster import KMeans\n",
    "\n",
    "from sklearn.metrics import accuracy_score, confusion_matrix, precision_score, recall_score, f1_score"
   ]
  },
  {
   "cell_type": "code",
   "execution_count": 361,
   "metadata": {},
   "outputs": [
    {
     "data": {
      "text/html": [
       "<div>\n",
       "<style scoped>\n",
       "    .dataframe tbody tr th:only-of-type {\n",
       "        vertical-align: middle;\n",
       "    }\n",
       "\n",
       "    .dataframe tbody tr th {\n",
       "        vertical-align: top;\n",
       "    }\n",
       "\n",
       "    .dataframe thead th {\n",
       "        text-align: right;\n",
       "    }\n",
       "</style>\n",
       "<table border=\"1\" class=\"dataframe\">\n",
       "  <thead>\n",
       "    <tr style=\"text-align: right;\">\n",
       "      <th></th>\n",
       "      <th>id</th>\n",
       "      <th>text</th>\n",
       "      <th>isRetweet</th>\n",
       "      <th>isDeleted</th>\n",
       "      <th>device</th>\n",
       "      <th>favorites</th>\n",
       "      <th>retweets</th>\n",
       "      <th>date</th>\n",
       "      <th>isFlagged</th>\n",
       "    </tr>\n",
       "  </thead>\n",
       "  <tbody>\n",
       "    <tr>\n",
       "      <th>0</th>\n",
       "      <td>98454970654916608</td>\n",
       "      <td>Republicans and Democrats have both created ou...</td>\n",
       "      <td>f</td>\n",
       "      <td>f</td>\n",
       "      <td>TweetDeck</td>\n",
       "      <td>49</td>\n",
       "      <td>255</td>\n",
       "      <td>2011-08-02 18:07:48</td>\n",
       "      <td>f</td>\n",
       "    </tr>\n",
       "    <tr>\n",
       "      <th>1</th>\n",
       "      <td>1234653427789070336</td>\n",
       "      <td>I was thrilled to be back in the Great city of...</td>\n",
       "      <td>f</td>\n",
       "      <td>f</td>\n",
       "      <td>Twitter for iPhone</td>\n",
       "      <td>73748</td>\n",
       "      <td>17404</td>\n",
       "      <td>2020-03-03 01:34:50</td>\n",
       "      <td>f</td>\n",
       "    </tr>\n",
       "    <tr>\n",
       "      <th>2</th>\n",
       "      <td>1218010753434820614</td>\n",
       "      <td>RT @CBS_Herridge: READ: Letter to surveillance...</td>\n",
       "      <td>t</td>\n",
       "      <td>f</td>\n",
       "      <td>Twitter for iPhone</td>\n",
       "      <td>0</td>\n",
       "      <td>7396</td>\n",
       "      <td>2020-01-17 03:22:47</td>\n",
       "      <td>f</td>\n",
       "    </tr>\n",
       "    <tr>\n",
       "      <th>3</th>\n",
       "      <td>1304875170860015617</td>\n",
       "      <td>The Unsolicited Mail In Ballot Scam is a major...</td>\n",
       "      <td>f</td>\n",
       "      <td>f</td>\n",
       "      <td>Twitter for iPhone</td>\n",
       "      <td>80527</td>\n",
       "      <td>23502</td>\n",
       "      <td>2020-09-12 20:10:58</td>\n",
       "      <td>f</td>\n",
       "    </tr>\n",
       "    <tr>\n",
       "      <th>4</th>\n",
       "      <td>1218159531554897920</td>\n",
       "      <td>RT @MZHemingway: Very friendly telling of even...</td>\n",
       "      <td>t</td>\n",
       "      <td>f</td>\n",
       "      <td>Twitter for iPhone</td>\n",
       "      <td>0</td>\n",
       "      <td>9081</td>\n",
       "      <td>2020-01-17 13:13:59</td>\n",
       "      <td>f</td>\n",
       "    </tr>\n",
       "    <tr>\n",
       "      <th>...</th>\n",
       "      <td>...</td>\n",
       "      <td>...</td>\n",
       "      <td>...</td>\n",
       "      <td>...</td>\n",
       "      <td>...</td>\n",
       "      <td>...</td>\n",
       "      <td>...</td>\n",
       "      <td>...</td>\n",
       "      <td>...</td>\n",
       "    </tr>\n",
       "    <tr>\n",
       "      <th>56566</th>\n",
       "      <td>1319485303363571714</td>\n",
       "      <td>RT @RandPaul: I don’t know why @JoeBiden think...</td>\n",
       "      <td>t</td>\n",
       "      <td>f</td>\n",
       "      <td>Twitter for iPhone</td>\n",
       "      <td>0</td>\n",
       "      <td>20683</td>\n",
       "      <td>2020-10-23 03:46:25</td>\n",
       "      <td>f</td>\n",
       "    </tr>\n",
       "    <tr>\n",
       "      <th>56567</th>\n",
       "      <td>1319484210101379072</td>\n",
       "      <td>RT @EliseStefanik: President @realDonaldTrump ...</td>\n",
       "      <td>t</td>\n",
       "      <td>f</td>\n",
       "      <td>Twitter for iPhone</td>\n",
       "      <td>0</td>\n",
       "      <td>9869</td>\n",
       "      <td>2020-10-23 03:42:05</td>\n",
       "      <td>f</td>\n",
       "    </tr>\n",
       "    <tr>\n",
       "      <th>56568</th>\n",
       "      <td>1319444420861829121</td>\n",
       "      <td>RT @TeamTrump: LIVE: Presidential Debate #Deba...</td>\n",
       "      <td>t</td>\n",
       "      <td>f</td>\n",
       "      <td>Twitter for iPhone</td>\n",
       "      <td>0</td>\n",
       "      <td>8197</td>\n",
       "      <td>2020-10-23 01:03:58</td>\n",
       "      <td>f</td>\n",
       "    </tr>\n",
       "    <tr>\n",
       "      <th>56569</th>\n",
       "      <td>1319384118849949702</td>\n",
       "      <td>Just signed an order to support the workers of...</td>\n",
       "      <td>f</td>\n",
       "      <td>f</td>\n",
       "      <td>Twitter for iPhone</td>\n",
       "      <td>176289</td>\n",
       "      <td>36001</td>\n",
       "      <td>2020-10-22 21:04:21</td>\n",
       "      <td>f</td>\n",
       "    </tr>\n",
       "    <tr>\n",
       "      <th>56570</th>\n",
       "      <td>1319345719829008387</td>\n",
       "      <td>Suburban women want Safety &amp;amp; Security. Joe...</td>\n",
       "      <td>f</td>\n",
       "      <td>f</td>\n",
       "      <td>Twitter for iPhone</td>\n",
       "      <td>95169</td>\n",
       "      <td>19545</td>\n",
       "      <td>2020-10-22 18:31:46</td>\n",
       "      <td>f</td>\n",
       "    </tr>\n",
       "  </tbody>\n",
       "</table>\n",
       "<p>56571 rows × 9 columns</p>\n",
       "</div>"
      ],
      "text/plain": [
       "                        id                                               text  \\\n",
       "0        98454970654916608  Republicans and Democrats have both created ou...   \n",
       "1      1234653427789070336  I was thrilled to be back in the Great city of...   \n",
       "2      1218010753434820614  RT @CBS_Herridge: READ: Letter to surveillance...   \n",
       "3      1304875170860015617  The Unsolicited Mail In Ballot Scam is a major...   \n",
       "4      1218159531554897920  RT @MZHemingway: Very friendly telling of even...   \n",
       "...                    ...                                                ...   \n",
       "56566  1319485303363571714  RT @RandPaul: I don’t know why @JoeBiden think...   \n",
       "56567  1319484210101379072  RT @EliseStefanik: President @realDonaldTrump ...   \n",
       "56568  1319444420861829121  RT @TeamTrump: LIVE: Presidential Debate #Deba...   \n",
       "56569  1319384118849949702  Just signed an order to support the workers of...   \n",
       "56570  1319345719829008387  Suburban women want Safety &amp; Security. Joe...   \n",
       "\n",
       "      isRetweet isDeleted              device  favorites  retweets  \\\n",
       "0             f         f           TweetDeck         49       255   \n",
       "1             f         f  Twitter for iPhone      73748     17404   \n",
       "2             t         f  Twitter for iPhone          0      7396   \n",
       "3             f         f  Twitter for iPhone      80527     23502   \n",
       "4             t         f  Twitter for iPhone          0      9081   \n",
       "...         ...       ...                 ...        ...       ...   \n",
       "56566         t         f  Twitter for iPhone          0     20683   \n",
       "56567         t         f  Twitter for iPhone          0      9869   \n",
       "56568         t         f  Twitter for iPhone          0      8197   \n",
       "56569         f         f  Twitter for iPhone     176289     36001   \n",
       "56570         f         f  Twitter for iPhone      95169     19545   \n",
       "\n",
       "                      date isFlagged  \n",
       "0      2011-08-02 18:07:48         f  \n",
       "1      2020-03-03 01:34:50         f  \n",
       "2      2020-01-17 03:22:47         f  \n",
       "3      2020-09-12 20:10:58         f  \n",
       "4      2020-01-17 13:13:59         f  \n",
       "...                    ...       ...  \n",
       "56566  2020-10-23 03:46:25         f  \n",
       "56567  2020-10-23 03:42:05         f  \n",
       "56568  2020-10-23 01:03:58         f  \n",
       "56569  2020-10-22 21:04:21         f  \n",
       "56570  2020-10-22 18:31:46         f  \n",
       "\n",
       "[56571 rows x 9 columns]"
      ]
     },
     "execution_count": 361,
     "metadata": {},
     "output_type": "execute_result"
    }
   ],
   "source": [
    "df = pd.read_csv('../data/tweets_01-08-2021.csv')\n",
    "df"
   ]
  },
  {
   "cell_type": "markdown",
   "metadata": {},
   "source": [
    "# Sentiment Analysis"
   ]
  },
  {
   "cell_type": "markdown",
   "metadata": {},
   "source": [
    "## Pre-processing the data"
   ]
  },
  {
   "cell_type": "markdown",
   "metadata": {},
   "source": [
    "Source: https://link-springer-com.ezproxy.cul.columbia.edu/content/pdf/10.1007%2F978-3-319-09339-0.pdf (page 617)"
   ]
  },
  {
   "cell_type": "code",
   "execution_count": 362,
   "metadata": {},
   "outputs": [],
   "source": [
    "# Add additional feature 'retweeted'\n",
    "tweets = df['text'].to_list()\n",
    "values = []\n",
    "\n",
    "for tweet in tweets:\n",
    "    if tweet.startswith('RT'):\n",
    "        value = True\n",
    "    else:\n",
    "        value = False\n",
    "\n",
    "    values.append(value)\n",
    "    \n",
    "df['retweeted'] = values"
   ]
  },
  {
   "cell_type": "code",
   "execution_count": 363,
   "metadata": {},
   "outputs": [],
   "source": [
    "# Step 1: Denoising – Remove Username, Hashtags, Links, Change to lowercase\n",
    "def denoise(tweets):\n",
    "    \n",
    "    clean_tweets = []\n",
    "\n",
    "    for tweet in tweets:\n",
    "        result = unicodedata.normalize('NFKD', tweet)\n",
    "        result = re.sub(\"@(\\w{1,15})\", \" \", result) # mentions\n",
    "        result = re.sub(\"#(\\w{1,15})\", \" \", result) # hashtags\n",
    "        result = re.sub(\"https?://([^\\s]+)\", ' ', result) # links\n",
    "        result = re.sub(\"RT\", ' ', result) # RT : \n",
    "        \n",
    "        result = re.sub(\" &amp\", ' ', result) # &amp\n",
    "        result = re.sub(\"[\\n\\r\\t\\0]\", ' ', result) # new line, tabs, etc\n",
    "        \n",
    "        result = re.sub(r\"\\'t\", \"not\", result)\n",
    "        result = re.sub(r\"\\'re\", \" are\", result)\n",
    "        result = re.sub(r\"\\'s\", \" is\", result)\n",
    "        result = re.sub(r\"\\'d\", \" would\", result)\n",
    "        result = re.sub(r\"\\'ll\", \" will\", result)\n",
    "        result = re.sub(r\"\\'ve\", \" have\", result)\n",
    "        result = re.sub(r\"\\'m\", \" am\", result)\n",
    "        \n",
    "        result = re.sub(r'\\b\\w\\b', ' ', result) # sigle letter\n",
    "        result = re.sub('[!,.-;:\\+\\-\\()?\"“”\\[\\]{}]', ' ', result) # punct\n",
    "        \n",
    "        result = re.sub('\\s{2,}', ' ', result) # 2+ whitespaces\n",
    "\n",
    "        result = result.strip()\n",
    "                \n",
    "        clean_tweets.append(result)\n",
    "        \n",
    "    return clean_tweets"
   ]
  },
  {
   "cell_type": "code",
   "execution_count": 364,
   "metadata": {},
   "outputs": [],
   "source": [
    "# Step 2: Normalizing contractions\n",
    "# source: https://towardsdatascience.com/text-normalization-7ecc8e084e31\n",
    "\n",
    "def normalize_contractions(tweets):\n",
    "    contraction_list = json.loads(open('../data/english_contractions.json', 'r').read())\n",
    "    clean_tweets = []\n",
    "    \n",
    "    for tweet in tweets:\n",
    "        clean_tweets.append(_normalize_contractions_text(tweet, contraction_list))\n",
    "        \n",
    "    return clean_tweets\n",
    "\n",
    "def _normalize_contractions_text(text, contractions):\n",
    "    \"\"\"\n",
    "    This function normalizes english contractions.\n",
    "    \"\"\"\n",
    "    new_token_list = []\n",
    "    token_list = text.split()\n",
    "    \n",
    "    for word_pos in range(len(token_list)):\n",
    "        word = token_list[word_pos]\n",
    "        first_upper = False\n",
    "        if word[0].isupper():\n",
    "            first_upper = True\n",
    "        if word.lower() in contractions:\n",
    "            replacement = contractions[word.lower()]\n",
    "            if first_upper:\n",
    "                replacement = replacement[0].upper()+replacement[1:]\n",
    "            replacement_tokens = replacement.split()\n",
    "            if len(replacement_tokens)>1:\n",
    "                new_token_list.append(replacement_tokens[0])\n",
    "                new_token_list.append(replacement_tokens[1])\n",
    "            else:\n",
    "                new_token_list.append(replacement_tokens[0])\n",
    "        else:\n",
    "            new_token_list.append(word)\n",
    "    \n",
    "    tweet = \" \".join(new_token_list).strip(\" \").lower()\n",
    "    \n",
    "    return tweet"
   ]
  },
  {
   "cell_type": "code",
   "execution_count": 365,
   "metadata": {},
   "outputs": [],
   "source": [
    "def remove_stop_words(tweets):\n",
    "    stopwords_english = stopwords.words('english')\n",
    "    \n",
    "    to_be_removed = [\"haven't\", \"against\", \"not\", \"weren't\", \"won't\", 'no']\n",
    "    \n",
    "    for word in to_be_removed:\n",
    "        stopwords_english.remove(word)\n",
    "        \n",
    "    stopwords_english.append('pm')\n",
    "    stopwords_english.append('am')\n",
    "\n",
    "    clean_tweets = []\n",
    "    \n",
    "    # instantiate the tokenizer class\n",
    "    tokenizer = TweetTokenizer(preserve_case=False, \n",
    "                           strip_handles=True,\n",
    "                           reduce_len=True)\n",
    "    \n",
    "    for tweet in tweets:\n",
    "        \n",
    "        # tokenize the tweets\n",
    "        tweet_tokens = tokenizer.tokenize(tweet)\n",
    "        \n",
    "        tweet_clean = ''\n",
    "        \n",
    "        for word in tweet_tokens: # Go through every word in your tokens list\n",
    "            if word not in stopwords_english:\n",
    "                tweet_clean = tweet_clean + ' ' + word\n",
    "                \n",
    "        clean_tweets.append(tweet_clean.strip())\n",
    "        \n",
    "    return clean_tweets"
   ]
  },
  {
   "cell_type": "code",
   "execution_count": 366,
   "metadata": {},
   "outputs": [],
   "source": [
    "def deEmojify(tweets):\n",
    "    clean_tweets = []\n",
    "    \n",
    "    for tweet in tweets:\n",
    "        regrex_pattern = re.compile(pattern = \"[\"\n",
    "            u\"\\U0001F600-\\U0001F64F\"  # emoticons\n",
    "            u\"\\U0001F300-\\U0001F5FF\"  # symbols & pictographs\n",
    "            u\"\\U0001F680-\\U0001F6FF\"  # transport & map symbols\n",
    "            u\"\\U0001F1E0-\\U0001F1FF\"  # flags (iOS)\n",
    "                               \"]+\", flags = re.UNICODE)\n",
    "        \n",
    "        clean_tweets.append(regrex_pattern.sub(r'', tweet))    \n",
    "        \n",
    "    return clean_tweets"
   ]
  },
  {
   "cell_type": "code",
   "execution_count": 367,
   "metadata": {},
   "outputs": [],
   "source": [
    "def normalization_pipeline(tweets):\n",
    "\n",
    "    tweets = denoise(tweets)\n",
    "    tweets = deEmojify(tweets)\n",
    "    tweets = normalize_contractions(tweets)\n",
    "    tweets = remove_stop_words(tweets)\n",
    "\n",
    "    return tweets"
   ]
  },
  {
   "cell_type": "code",
   "execution_count": 368,
   "metadata": {},
   "outputs": [],
   "source": [
    "# load tweets\n",
    "tweets = df['text'].to_list()\n",
    "\n",
    "clean_tweets = normalization_pipeline(tweets)"
   ]
  },
  {
   "cell_type": "code",
   "execution_count": 369,
   "metadata": {},
   "outputs": [],
   "source": [
    "df['sentiment_text'] = clean_tweets"
   ]
  },
  {
   "cell_type": "code",
   "execution_count": 370,
   "metadata": {},
   "outputs": [],
   "source": [
    "#remove tweets that are empty\n",
    "df = df[df['sentiment_text'] != '']"
   ]
  },
  {
   "cell_type": "markdown",
   "metadata": {},
   "source": [
    "## Sentiment Analysis"
   ]
  },
  {
   "cell_type": "markdown",
   "metadata": {},
   "source": [
    "### Part 1: Vader & TextBlob"
   ]
  },
  {
   "cell_type": "code",
   "execution_count": 371,
   "metadata": {},
   "outputs": [],
   "source": [
    "def sentiment_scores(tweet):\n",
    "  \n",
    "    # Create a SentimentIntensityAnalyzer object.\n",
    "    sid_obj = SentimentIntensityAnalyzer()\n",
    "    \n",
    "    sentiment_score = sid_obj.polarity_scores(tweet)['compound'] \n",
    "    blob_dict = TextBlob(tweet).sentiment\n",
    "    \n",
    "    sentiment_vader.append(sentiment_score)\n",
    "    polarity.append(blob_dict.polarity)\n",
    "    subjectivity.append(blob_dict.subjectivity)"
   ]
  },
  {
   "cell_type": "code",
   "execution_count": 372,
   "metadata": {},
   "outputs": [
    {
     "name": "stderr",
     "output_type": "stream",
     "text": [
      "<ipython-input-372-aad1d5f1801e>:11: SettingWithCopyWarning: \n",
      "A value is trying to be set on a copy of a slice from a DataFrame.\n",
      "Try using .loc[row_indexer,col_indexer] = value instead\n",
      "\n",
      "See the caveats in the documentation: https://pandas.pydata.org/pandas-docs/stable/user_guide/indexing.html#returning-a-view-versus-a-copy\n",
      "  df['subjectivity_score'] = subjectivity\n",
      "<ipython-input-372-aad1d5f1801e>:12: SettingWithCopyWarning: \n",
      "A value is trying to be set on a copy of a slice from a DataFrame.\n",
      "Try using .loc[row_indexer,col_indexer] = value instead\n",
      "\n",
      "See the caveats in the documentation: https://pandas.pydata.org/pandas-docs/stable/user_guide/indexing.html#returning-a-view-versus-a-copy\n",
      "  df['TextBlob_sa'] = polarity\n",
      "<ipython-input-372-aad1d5f1801e>:13: SettingWithCopyWarning: \n",
      "A value is trying to be set on a copy of a slice from a DataFrame.\n",
      "Try using .loc[row_indexer,col_indexer] = value instead\n",
      "\n",
      "See the caveats in the documentation: https://pandas.pydata.org/pandas-docs/stable/user_guide/indexing.html#returning-a-view-versus-a-copy\n",
      "  df['Vader_sa'] = sentiment_vader\n"
     ]
    }
   ],
   "source": [
    "# compute scores\n",
    "tweets_clean = df['sentiment_text']\n",
    "\n",
    "polarity = []\n",
    "subjectivity = []\n",
    "sentiment_vader = []\n",
    "\n",
    "for tweet in tweets_clean:\n",
    "    sentiment_scores(tweet)\n",
    "    \n",
    "df['subjectivity_score'] = subjectivity\n",
    "df['TextBlob_sa'] = polarity\n",
    "df['Vader_sa'] = sentiment_vader"
   ]
  },
  {
   "cell_type": "markdown",
   "metadata": {},
   "source": [
    "### Plotting the results"
   ]
  },
  {
   "cell_type": "code",
   "execution_count": 373,
   "metadata": {},
   "outputs": [],
   "source": [
    "def get_rid_of_spine(axes):\n",
    "    for ax in axes:\n",
    "        for spine in ax.spines.values():\n",
    "            spine.set_visible(False)"
   ]
  },
  {
   "cell_type": "code",
   "execution_count": 374,
   "metadata": {},
   "outputs": [
    {
     "data": {
      "text/plain": [
       "Text(0.5, 1.03, 'The distribution of sentiment scores')"
      ]
     },
     "execution_count": 374,
     "metadata": {},
     "output_type": "execute_result"
    },
    {
     "data": {
      "image/png": "[encoded data removed]",
      "text/plain": [
       "<Figure size 1152x576 with 2 Axes>"
      ]
     },
     "metadata": {},
     "output_type": "display_data"
    }
   ],
   "source": [
    "# Plotting polarity vs sentiment\n",
    "fig, (ax1, ax2) = plt.subplots(1, 2, figsize=(16,8), sharey=True)\n",
    "g1 = sns.histplot(x=df['Vader_sa'], color=\"steelblue\", ax=ax1, bins = 30)\n",
    "g2 = sns.histplot(x=df['TextBlob_sa'], color=\"steelblue\", ax=ax2, bins = 30)\n",
    "\n",
    "ax1.set_title(\"Vader Sentiment\")\n",
    "ax2.set_title(\"Polarity (TextBlob)\")\n",
    "\n",
    "get_rid_of_spine([ax1, ax2])\n",
    "plt.suptitle(\"The distribution of sentiment scores\", y = 1.03, fontsize=20)"
   ]
  },
  {
   "cell_type": "code",
   "execution_count": 375,
   "metadata": {},
   "outputs": [
    {
     "data": {
      "text/plain": [
       "Text(0.5, 1.03, 'The distribution of subjectivity score')"
      ]
     },
     "execution_count": 375,
     "metadata": {},
     "output_type": "execute_result"
    },
    {
     "data": {
      "image/png": "[encoded data removed]",
      "text/plain": [
       "<Figure size 1152x576 with 1 Axes>"
      ]
     },
     "metadata": {},
     "output_type": "display_data"
    }
   ],
   "source": [
    "# Plotting objectivity\n",
    "# subjectivity_score = 0: very objective\n",
    "# subjectivity_score = 1: very subjective\n",
    "fig, ax = plt.subplots(figsize=(16,8))\n",
    "g1 = sns.histplot(x=df['subjectivity_score'], color=\"steelblue\", bins = 30)\n",
    "get_rid_of_spine([ax])\n",
    "plt.suptitle(\"The distribution of subjectivity score\", y = 1.03, fontsize=20)"
   ]
  },
  {
   "cell_type": "code",
   "execution_count": 376,
   "metadata": {},
   "outputs": [],
   "source": [
    "df.to_csv(r'../output/sentiment_analysis_clean.csv', index = False)"
   ]
  },
  {
   "cell_type": "markdown",
   "metadata": {},
   "source": [
    "### Part 2: Word-2-vec and KMeans\n",
    "\n",
    "Source:  https://towardsdatascience.com/unsupervised-sentiment-analysis-a38bf1906483 "
   ]
  },
  {
   "cell_type": "code",
   "execution_count": 377,
   "metadata": {},
   "outputs": [
    {
     "data": {
      "text/html": [
       "<div>\n",
       "<style scoped>\n",
       "    .dataframe tbody tr th:only-of-type {\n",
       "        vertical-align: middle;\n",
       "    }\n",
       "\n",
       "    .dataframe tbody tr th {\n",
       "        vertical-align: top;\n",
       "    }\n",
       "\n",
       "    .dataframe thead th {\n",
       "        text-align: right;\n",
       "    }\n",
       "</style>\n",
       "<table border=\"1\" class=\"dataframe\">\n",
       "  <thead>\n",
       "    <tr style=\"text-align: right;\">\n",
       "      <th></th>\n",
       "      <th>id</th>\n",
       "      <th>text</th>\n",
       "      <th>isRetweet</th>\n",
       "      <th>isDeleted</th>\n",
       "      <th>device</th>\n",
       "      <th>favorites</th>\n",
       "      <th>retweets</th>\n",
       "      <th>date</th>\n",
       "      <th>isFlagged</th>\n",
       "      <th>retweeted</th>\n",
       "      <th>sentiment_text</th>\n",
       "      <th>subjectivity_score</th>\n",
       "      <th>TextBlob_sa</th>\n",
       "      <th>Vader_sa</th>\n",
       "    </tr>\n",
       "  </thead>\n",
       "  <tbody>\n",
       "    <tr>\n",
       "      <th>0</th>\n",
       "      <td>98454970654916608</td>\n",
       "      <td>Republicans and Democrats have both created ou...</td>\n",
       "      <td>f</td>\n",
       "      <td>f</td>\n",
       "      <td>TweetDeck</td>\n",
       "      <td>49</td>\n",
       "      <td>255</td>\n",
       "      <td>2011-08-02 18:07:48</td>\n",
       "      <td>f</td>\n",
       "      <td>False</td>\n",
       "      <td>republicans democrats created economic problems</td>\n",
       "      <td>0.200000</td>\n",
       "      <td>0.200000</td>\n",
       "      <td>-0.1779</td>\n",
       "    </tr>\n",
       "    <tr>\n",
       "      <th>1</th>\n",
       "      <td>1234653427789070336</td>\n",
       "      <td>I was thrilled to be back in the Great city of...</td>\n",
       "      <td>f</td>\n",
       "      <td>f</td>\n",
       "      <td>Twitter for iPhone</td>\n",
       "      <td>73748</td>\n",
       "      <td>17404</td>\n",
       "      <td>2020-03-03 01:34:50</td>\n",
       "      <td>f</td>\n",
       "      <td>False</td>\n",
       "      <td>thrilled back great city charlotte north carol...</td>\n",
       "      <td>0.483333</td>\n",
       "      <td>0.450000</td>\n",
       "      <td>0.9771</td>\n",
       "    </tr>\n",
       "    <tr>\n",
       "      <th>2</th>\n",
       "      <td>1218010753434820614</td>\n",
       "      <td>RT @CBS_Herridge: READ: Letter to surveillance...</td>\n",
       "      <td>t</td>\n",
       "      <td>f</td>\n",
       "      <td>Twitter for iPhone</td>\n",
       "      <td>0</td>\n",
       "      <td>7396</td>\n",
       "      <td>2020-01-17 03:22:47</td>\n",
       "      <td>f</td>\n",
       "      <td>True</td>\n",
       "      <td>read letter surveillance court obtained cbs ne...</td>\n",
       "      <td>0.100000</td>\n",
       "      <td>0.100000</td>\n",
       "      <td>0.0000</td>\n",
       "    </tr>\n",
       "    <tr>\n",
       "      <th>3</th>\n",
       "      <td>1304875170860015617</td>\n",
       "      <td>The Unsolicited Mail In Ballot Scam is a major...</td>\n",
       "      <td>f</td>\n",
       "      <td>f</td>\n",
       "      <td>Twitter for iPhone</td>\n",
       "      <td>80527</td>\n",
       "      <td>23502</td>\n",
       "      <td>2020-09-12 20:10:58</td>\n",
       "      <td>f</td>\n",
       "      <td>False</td>\n",
       "      <td>unsolicited mail ballot scam major threat demo...</td>\n",
       "      <td>0.454762</td>\n",
       "      <td>0.029464</td>\n",
       "      <td>-0.9552</td>\n",
       "    </tr>\n",
       "    <tr>\n",
       "      <th>4</th>\n",
       "      <td>1218159531554897920</td>\n",
       "      <td>RT @MZHemingway: Very friendly telling of even...</td>\n",
       "      <td>t</td>\n",
       "      <td>f</td>\n",
       "      <td>Twitter for iPhone</td>\n",
       "      <td>0</td>\n",
       "      <td>9081</td>\n",
       "      <td>2020-01-17 13:13:59</td>\n",
       "      <td>f</td>\n",
       "      <td>True</td>\n",
       "      <td>friendly telling events comey apparent leaking...</td>\n",
       "      <td>0.425000</td>\n",
       "      <td>0.212500</td>\n",
       "      <td>0.4939</td>\n",
       "    </tr>\n",
       "  </tbody>\n",
       "</table>\n",
       "</div>"
      ],
      "text/plain": [
       "                    id                                               text  \\\n",
       "0    98454970654916608  Republicans and Democrats have both created ou...   \n",
       "1  1234653427789070336  I was thrilled to be back in the Great city of...   \n",
       "2  1218010753434820614  RT @CBS_Herridge: READ: Letter to surveillance...   \n",
       "3  1304875170860015617  The Unsolicited Mail In Ballot Scam is a major...   \n",
       "4  1218159531554897920  RT @MZHemingway: Very friendly telling of even...   \n",
       "\n",
       "  isRetweet isDeleted              device  favorites  retweets  \\\n",
       "0         f         f           TweetDeck         49       255   \n",
       "1         f         f  Twitter for iPhone      73748     17404   \n",
       "2         t         f  Twitter for iPhone          0      7396   \n",
       "3         f         f  Twitter for iPhone      80527     23502   \n",
       "4         t         f  Twitter for iPhone          0      9081   \n",
       "\n",
       "                  date isFlagged  retweeted  \\\n",
       "0  2011-08-02 18:07:48         f      False   \n",
       "1  2020-03-03 01:34:50         f      False   \n",
       "2  2020-01-17 03:22:47         f       True   \n",
       "3  2020-09-12 20:10:58         f      False   \n",
       "4  2020-01-17 13:13:59         f       True   \n",
       "\n",
       "                                      sentiment_text  subjectivity_score  \\\n",
       "0    republicans democrats created economic problems            0.200000   \n",
       "1  thrilled back great city charlotte north carol...            0.483333   \n",
       "2  read letter surveillance court obtained cbs ne...            0.100000   \n",
       "3  unsolicited mail ballot scam major threat demo...            0.454762   \n",
       "4  friendly telling events comey apparent leaking...            0.425000   \n",
       "\n",
       "   TextBlob_sa  Vader_sa  \n",
       "0     0.200000   -0.1779  \n",
       "1     0.450000    0.9771  \n",
       "2     0.100000    0.0000  \n",
       "3     0.029464   -0.9552  \n",
       "4     0.212500    0.4939  "
      ]
     },
     "execution_count": 377,
     "metadata": {},
     "output_type": "execute_result"
    }
   ],
   "source": [
    "# loading clean dataset\n",
    "df_tweets = pd.read_csv('../output/sentiment_analysis_clean.csv')\n",
    "df_tweets.head()"
   ]
  },
  {
   "cell_type": "code",
   "execution_count": 378,
   "metadata": {},
   "outputs": [
    {
     "data": {
      "application/vnd.jupyter.widget-view+json": {
       "model_id": "dda6d1f4a99d4b9b8028aaa638f11354",
       "version_major": 2,
       "version_minor": 0
      },
      "text/plain": [
       "HBox(children=(HTML(value='Pandas Apply'), FloatProgress(value=0.0, max=54674.0), HTML(value='')))"
      ]
     },
     "metadata": {},
     "output_type": "display_data"
    },
    {
     "name": "stdout",
     "output_type": "stream",
     "text": [
      "\n"
     ]
    },
    {
     "data": {
      "text/plain": [
       "0    [republicans, democrats, created, economic, pr...\n",
       "1    [thrilled, back, great, city, charlotte, north...\n",
       "2    [read, letter, surveillance, court, obtained, ...\n",
       "3    [unsolicited, mail, ballot, scam, major, threa...\n",
       "4    [friendly, telling, events, comey, apparent, l...\n",
       "Name: sentiment_text, dtype: object"
      ]
     },
     "execution_count": 378,
     "metadata": {},
     "output_type": "execute_result"
    }
   ],
   "source": [
    "# Removing empty sentiment_text\n",
    "df_tweets = df_tweets[-df_tweets.sentiment_text.isna()]\n",
    "\n",
    "# Tokenizing sentiment_text for compatibility with gensim package\n",
    "df_tweets.sentiment_text = df_tweets.sentiment_text.swifter.apply(lambda x: x.split())\n",
    "\n",
    "df_tweets.sentiment_text.head()"
   ]
  },
  {
   "cell_type": "code",
   "execution_count": 379,
   "metadata": {},
   "outputs": [],
   "source": [
    "corpus = [tweet for tweet in df_tweets.sentiment_text]\n",
    "phrases = Phrases(corpus, min_count=10)\n",
    "bigram = Phraser(phrases)\n",
    "sentences = bigram[corpus]"
   ]
  },
  {
   "cell_type": "code",
   "execution_count": 380,
   "metadata": {},
   "outputs": [
    {
     "data": {
      "text/plain": [
       "['thrilled_back',\n",
       " 'great',\n",
       " 'city',\n",
       " 'charlotte',\n",
       " 'north_carolina',\n",
       " 'thousands',\n",
       " 'hardworking_american',\n",
       " 'patriots',\n",
       " 'love',\n",
       " 'country',\n",
       " 'cherish',\n",
       " 'values',\n",
       " 'respect',\n",
       " 'laws',\n",
       " 'always',\n",
       " 'put',\n",
       " 'america',\n",
       " 'first',\n",
       " 'thank',\n",
       " 'wonderful',\n",
       " 'evening']"
      ]
     },
     "execution_count": 380,
     "metadata": {},
     "output_type": "execute_result"
    }
   ],
   "source": [
    "# Example of sentence with bigram token\n",
    "sentences[1]"
   ]
  },
  {
   "cell_type": "code",
   "execution_count": null,
   "metadata": {},
   "outputs": [],
   "source": [
    "w2v_model = Word2Vec(min_count=1,\n",
    "                     window=7,\n",
    "                     size=300,\n",
    "                     sample=1e-5, \n",
    "                     alpha=0.03, \n",
    "                     min_alpha=0.0007, \n",
    "                     negative=10,\n",
    "                     workers=-1)\n",
    "\n",
    "start = time()\n",
    "\n",
    "w2v_model.build_vocab(sentences, \n",
    "                      progress_per=50000)\n",
    "\n",
    "print('Time to build vocab: {} mins'.format(round((time() - start) / 60, 2)))"
   ]
  },
  {
   "cell_type": "code",
   "execution_count": 382,
   "metadata": {},
   "outputs": [
    {
     "name": "stdout",
     "output_type": "stream",
     "text": [
      "Time to train the model: 1.61 mins\n"
     ]
    },
    {
     "name": "stderr",
     "output_type": "stream",
     "text": [
      "<ipython-input-382-9b3f9f8c7e0a>:7: DeprecationWarning: Call to deprecated `init_sims` (Gensim 4.0.0 implemented internal optimizations that make calls to init_sims() unnecessary. init_sims() is now obsoleted and will be completely removed in future versions. See https://github.com/RaRe-Technologies/gensim/wiki/Migrating-from-Gensim-3.x-to-4).\n",
      "  w2v_model.init_sims(replace=True)\n"
     ]
    }
   ],
   "source": [
    "start = time()\n",
    "\n",
    "w2v_model.train(sentences, total_examples=w2v_model.corpus_count, epochs=200, report_delay=1)\n",
    "\n",
    "print('Time to train the model: {} mins'.format(round((time() - start) / 60, 2)))\n",
    "\n",
    "w2v_model.init_sims(replace=True)"
   ]
  },
  {
   "cell_type": "code",
   "execution_count": 383,
   "metadata": {},
   "outputs": [],
   "source": [
    "w2v_model.save(\"../output/word2vec.model\")\n",
    "\n",
    "word_vectors = Word2Vec.load(\"../output/word2vec.model\").wv"
   ]
  },
  {
   "cell_type": "code",
   "execution_count": 384,
   "metadata": {},
   "outputs": [
    {
     "data": {
      "text/plain": [
       "[('hanna', 0.2546403706073761),\n",
       " ('reactor', 0.2425016611814499),\n",
       " ('jones', 0.229448601603508),\n",
       " ('chickens', 0.2241600900888443),\n",
       " ('eliminates', 0.21723613142967224),\n",
       " ('taj', 0.2135332226753235),\n",
       " ('donate', 0.21283449232578278),\n",
       " ('calenders', 0.20683975517749786),\n",
       " ('bought', 0.20530638098716736),\n",
       " ('ensue', 0.20398637652397156),\n",
       " ('proceedings', 0.19942763447761536),\n",
       " ('cumming', 0.19820238649845123),\n",
       " ('vaccines', 0.19622787833213806),\n",
       " ('chester', 0.19548356533050537),\n",
       " ('overflowing', 0.19547200202941895),\n",
       " ('locale', 0.19536355137825012),\n",
       " ('yt', 0.19525468349456787),\n",
       " ('begs', 0.1929004192352295),\n",
       " ('explicit', 0.19289487600326538),\n",
       " ('challenger', 0.1925903856754303),\n",
       " ('omaha', 0.19106560945510864),\n",
       " (\"america'executive\", 0.19088676571846008),\n",
       " ('defiance', 0.1892756223678589),\n",
       " ('dismantles', 0.18781165778636932),\n",
       " ('fig', 0.18645288050174713),\n",
       " ('create', 0.18580549955368042),\n",
       " ('se', 0.18480007350444794),\n",
       " ('diligently', 0.18452215194702148),\n",
       " ('retainer', 0.18416795134544373),\n",
       " ('vulnerabilities', 0.18341287970542908),\n",
       " ('vocabulary', 0.18300214409828186),\n",
       " ('seattle', 0.18205475807189941),\n",
       " ('valid', 0.18139460682868958),\n",
       " ('degenerates', 0.18015271425247192),\n",
       " ('ungratefulness', 0.17942260205745697),\n",
       " ('harmful', 0.1793481707572937),\n",
       " ('australians', 0.1781979501247406),\n",
       " ('beard', 0.1778695285320282),\n",
       " ('lashed', 0.17739585041999817),\n",
       " ('picasso', 0.1767440140247345),\n",
       " ('hbcu', 0.1767164021730423),\n",
       " ('stadium', 0.1766815036535263),\n",
       " ('parkland', 0.17590627074241638),\n",
       " ('bankrupting', 0.17567592859268188),\n",
       " ('precautions', 0.17534536123275757),\n",
       " ('¡', 0.17530637979507446),\n",
       " ('rejection', 0.17524150013923645),\n",
       " ('granting', 0.17355895042419434),\n",
       " ('lindsay', 0.17346470057964325),\n",
       " ('joe_scarborough', 0.17333108186721802)]"
      ]
     },
     "execution_count": 384,
     "metadata": {},
     "output_type": "execute_result"
    }
   ],
   "source": [
    "# build Kmeans model\n",
    "model = KMeans(n_clusters=2, max_iter=1000, random_state=True, n_init=50).fit(X=word_vectors.vectors.astype('double'))\n",
    "word_vectors.similar_by_vector(model.cluster_centers_[0], topn=50, restrict_vocab=None)"
   ]
  },
  {
   "cell_type": "code",
   "execution_count": 413,
   "metadata": {},
   "outputs": [
    {
     "ename": "AttributeError",
     "evalue": "The vocab attribute was removed from KeyedVector in Gensim 4.0.0.\nUse KeyedVector's .key_to_index dict, .index_to_key list, and methods .get_vecattr(key, attr) and .set_vecattr(key, attr, new_val) instead.\nSee https://github.com/RaRe-Technologies/gensim/wiki/Migrating-from-Gensim-3.x-to-4",
     "output_type": "error",
     "traceback": [
      "\u001b[0;31m---------------------------------------------------------------------------\u001b[0m",
      "\u001b[0;31mAttributeError\u001b[0m                            Traceback (most recent call last)",
      "\u001b[0;32m<ipython-input-413-feca139475f1>\u001b[0m in \u001b[0;36m<module>\u001b[0;34m\u001b[0m\n\u001b[1;32m      3\u001b[0m \u001b[0mnegative_cluster_center\u001b[0m \u001b[0;34m=\u001b[0m \u001b[0mmodel\u001b[0m\u001b[0;34m.\u001b[0m\u001b[0mcluster_centers_\u001b[0m\u001b[0;34m[\u001b[0m\u001b[0;36m1\u001b[0m\u001b[0;34m-\u001b[0m\u001b[0mpositive_cluster_index\u001b[0m\u001b[0;34m]\u001b[0m\u001b[0;34m\u001b[0m\u001b[0;34m\u001b[0m\u001b[0m\n\u001b[1;32m      4\u001b[0m \u001b[0;34m\u001b[0m\u001b[0m\n\u001b[0;32m----> 5\u001b[0;31m \u001b[0mwords\u001b[0m \u001b[0;34m=\u001b[0m \u001b[0mpd\u001b[0m\u001b[0;34m.\u001b[0m\u001b[0mDataFrame\u001b[0m\u001b[0;34m(\u001b[0m\u001b[0mword_vectors\u001b[0m\u001b[0;34m.\u001b[0m\u001b[0mvocab\u001b[0m\u001b[0;34m.\u001b[0m\u001b[0mkeys\u001b[0m\u001b[0;34m)\u001b[0m\u001b[0;34m\u001b[0m\u001b[0;34m\u001b[0m\u001b[0m\n\u001b[0m\u001b[1;32m      6\u001b[0m \u001b[0mwords\u001b[0m\u001b[0;34m.\u001b[0m\u001b[0mcolumns\u001b[0m \u001b[0;34m=\u001b[0m \u001b[0;34m[\u001b[0m\u001b[0;34m'words'\u001b[0m\u001b[0;34m]\u001b[0m\u001b[0;34m\u001b[0m\u001b[0;34m\u001b[0m\u001b[0m\n\u001b[1;32m      7\u001b[0m \u001b[0mwords\u001b[0m\u001b[0;34m[\u001b[0m\u001b[0;34m'vectors'\u001b[0m\u001b[0;34m]\u001b[0m \u001b[0;34m=\u001b[0m \u001b[0mwords\u001b[0m\u001b[0;34m.\u001b[0m\u001b[0mwords\u001b[0m\u001b[0;34m.\u001b[0m\u001b[0mapply\u001b[0m\u001b[0;34m(\u001b[0m\u001b[0;32mlambda\u001b[0m \u001b[0mx\u001b[0m\u001b[0;34m:\u001b[0m \u001b[0mword_vectors\u001b[0m\u001b[0;34m[\u001b[0m\u001b[0;34mf'{x}'\u001b[0m\u001b[0;34m]\u001b[0m\u001b[0;34m)\u001b[0m\u001b[0;34m\u001b[0m\u001b[0;34m\u001b[0m\u001b[0m\n",
      "\u001b[0;32m~/opt/anaconda3/lib/python3.8/site-packages/gensim/models/keyedvectors.py\u001b[0m in \u001b[0;36mvocab\u001b[0;34m(self)\u001b[0m\n\u001b[1;32m    643\u001b[0m             \u001b[0membeddings\u001b[0m \u001b[0mclosest\u001b[0m \u001b[0mto\u001b[0m \u001b[0ma\u001b[0m \u001b[0mgiven\u001b[0m \u001b[0mword\u001b[0m \u001b[0membedding\u001b[0m\u001b[0;34m.\u001b[0m\u001b[0;34m\u001b[0m\u001b[0;34m\u001b[0m\u001b[0m\n\u001b[1;32m    644\u001b[0m         \u001b[0mexponent\u001b[0m \u001b[0;34m:\u001b[0m \u001b[0mfloat\u001b[0m\u001b[0;34m,\u001b[0m \u001b[0moptional\u001b[0m\u001b[0;34m\u001b[0m\u001b[0;34m\u001b[0m\u001b[0m\n\u001b[0;32m--> 645\u001b[0;31m             \u001b[0mTake\u001b[0m \u001b[0mthe\u001b[0m \u001b[0mword\u001b[0m \u001b[0membedding\u001b[0m \u001b[0msimilarities\u001b[0m \u001b[0mlarger\u001b[0m \u001b[0mthan\u001b[0m\u001b[0;31m \u001b[0m\u001b[0;31m`\u001b[0m\u001b[0mthreshold\u001b[0m\u001b[0;31m`\u001b[0m \u001b[0mto\u001b[0m \u001b[0mthe\u001b[0m \u001b[0mpower\u001b[0m \u001b[0mof\u001b[0m\u001b[0;31m \u001b[0m\u001b[0;31m`\u001b[0m\u001b[0mexponent\u001b[0m\u001b[0;31m`\u001b[0m\u001b[0;34m.\u001b[0m\u001b[0;34m\u001b[0m\u001b[0;34m\u001b[0m\u001b[0m\n\u001b[0m\u001b[1;32m    646\u001b[0m         \u001b[0mnonzero_limit\u001b[0m \u001b[0;34m:\u001b[0m \u001b[0mint\u001b[0m\u001b[0;34m,\u001b[0m \u001b[0moptional\u001b[0m\u001b[0;34m\u001b[0m\u001b[0;34m\u001b[0m\u001b[0m\n\u001b[1;32m    647\u001b[0m             \u001b[0mThe\u001b[0m \u001b[0mmaximum\u001b[0m \u001b[0mnumber\u001b[0m \u001b[0mof\u001b[0m \u001b[0mnon\u001b[0m\u001b[0;34m-\u001b[0m\u001b[0mzero\u001b[0m \u001b[0melements\u001b[0m \u001b[0moutside\u001b[0m \u001b[0mthe\u001b[0m \u001b[0mdiagonal\u001b[0m \u001b[0;32min\u001b[0m \u001b[0ma\u001b[0m \u001b[0msingle\u001b[0m \u001b[0mcolumn\u001b[0m \u001b[0mof\u001b[0m \u001b[0mthe\u001b[0m\u001b[0;34m\u001b[0m\u001b[0;34m\u001b[0m\u001b[0m\n",
      "\u001b[0;31mAttributeError\u001b[0m: The vocab attribute was removed from KeyedVector in Gensim 4.0.0.\nUse KeyedVector's .key_to_index dict, .index_to_key list, and methods .get_vecattr(key, attr) and .set_vecattr(key, attr, new_val) instead.\nSee https://github.com/RaRe-Technologies/gensim/wiki/Migrating-from-Gensim-3.x-to-4"
     ]
    }
   ],
   "source": [
    "positive_cluster_index = 1\n",
    "positive_cluster_center = model.cluster_centers_[positive_cluster_index]\n",
    "negative_cluster_center = model.cluster_centers_[1-positive_cluster_index]\n",
    "\n",
    "words = pd.DataFrame(word_vectors.vocab.keys)\n",
    "words.columns = ['words']\n",
    "words['vectors'] = words.words.apply(lambda x: word_vectors[f'{x}'])\n",
    "words['cluster'] = words.vectors.apply(lambda x: model.predict([np.array(x)]))\n",
    "words.cluster = words.cluster.apply(lambda x: x[0])\n",
    "\n",
    "words['cluster_value'] = [1 if i==positive_cluster_index else -1 for i in words.cluster]\n",
    "words['closeness_score'] = words.apply(lambda x: 1/(model.transform([x.vectors]).min()), axis=1)\n",
    "words['sentiment_coeff'] = words.closeness_score * words.cluster_value\n",
    "\n",
    "words.head(20)"
   ]
  },
  {
   "cell_type": "code",
   "execution_count": 386,
   "metadata": {},
   "outputs": [],
   "source": [
    "words[['words', 'sentiment_coeff']].to_csv('../output/sentiment_dictionary.csv', index=False)"
   ]
  },
  {
   "cell_type": "code",
   "execution_count": 387,
   "metadata": {},
   "outputs": [
    {
     "data": {
      "application/vnd.jupyter.widget-view+json": {
       "model_id": "dd606fbeac8f468e90c6abbe22b5eab5",
       "version_major": 2,
       "version_minor": 0
      },
      "text/plain": [
       "HBox(children=(HTML(value='Pandas Apply'), FloatProgress(value=0.0, max=54674.0), HTML(value='')))"
      ]
     },
     "metadata": {},
     "output_type": "display_data"
    },
    {
     "name": "stdout",
     "output_type": "stream",
     "text": [
      "\n"
     ]
    },
    {
     "data": {
      "text/plain": [
       "1     31055\n",
       "-1    14920\n",
       "0      8699\n",
       "Name: VADER, dtype: int64"
      ]
     },
     "execution_count": 387,
     "metadata": {},
     "output_type": "execute_result"
    }
   ],
   "source": [
    "df_tweets.sentiment_text = df_tweets.sentiment_text.swifter.apply(lambda x: ' '.join(bigram[x]))\n",
    "\n",
    "cut_labels = [-1, 0, 1]\n",
    "cut_bins = [-1, -0.00000001, 0.00000001, 1]\n",
    "df_tweets['VADER'] = pd.cut(df_tweets.Vader_sa, bins=cut_bins, labels=cut_labels)\n",
    "df_tweets['TextBlob'] = pd.cut(df_tweets.TextBlob_sa, bins=cut_bins, labels=cut_labels)\n",
    "\n",
    "df_tweets['VADER'].value_counts()"
   ]
  },
  {
   "cell_type": "code",
   "execution_count": 388,
   "metadata": {},
   "outputs": [
    {
     "data": {
      "text/html": [
       "<div>\n",
       "<style scoped>\n",
       "    .dataframe tbody tr th:only-of-type {\n",
       "        vertical-align: middle;\n",
       "    }\n",
       "\n",
       "    .dataframe tbody tr th {\n",
       "        vertical-align: top;\n",
       "    }\n",
       "\n",
       "    .dataframe thead th {\n",
       "        text-align: right;\n",
       "    }\n",
       "</style>\n",
       "<table border=\"1\" class=\"dataframe\">\n",
       "  <thead>\n",
       "    <tr style=\"text-align: right;\">\n",
       "      <th></th>\n",
       "      <th>id</th>\n",
       "      <th>text</th>\n",
       "      <th>isRetweet</th>\n",
       "      <th>isDeleted</th>\n",
       "      <th>device</th>\n",
       "      <th>favorites</th>\n",
       "      <th>retweets</th>\n",
       "      <th>date</th>\n",
       "      <th>isFlagged</th>\n",
       "      <th>retweeted</th>\n",
       "      <th>sentiment_text</th>\n",
       "      <th>subjectivity_score</th>\n",
       "      <th>TextBlob_sa</th>\n",
       "      <th>Vader_sa</th>\n",
       "      <th>VADER</th>\n",
       "      <th>TextBlob</th>\n",
       "    </tr>\n",
       "  </thead>\n",
       "  <tbody>\n",
       "    <tr>\n",
       "      <th>0</th>\n",
       "      <td>98454970654916608</td>\n",
       "      <td>Republicans and Democrats have both created ou...</td>\n",
       "      <td>f</td>\n",
       "      <td>f</td>\n",
       "      <td>TweetDeck</td>\n",
       "      <td>49</td>\n",
       "      <td>255</td>\n",
       "      <td>2011-08-02 18:07:48</td>\n",
       "      <td>f</td>\n",
       "      <td>False</td>\n",
       "      <td>republicans democrats created economic problems</td>\n",
       "      <td>0.200000</td>\n",
       "      <td>0.200000</td>\n",
       "      <td>-0.1779</td>\n",
       "      <td>-1</td>\n",
       "      <td>1</td>\n",
       "    </tr>\n",
       "    <tr>\n",
       "      <th>1</th>\n",
       "      <td>1234653427789070336</td>\n",
       "      <td>I was thrilled to be back in the Great city of...</td>\n",
       "      <td>f</td>\n",
       "      <td>f</td>\n",
       "      <td>Twitter for iPhone</td>\n",
       "      <td>73748</td>\n",
       "      <td>17404</td>\n",
       "      <td>2020-03-03 01:34:50</td>\n",
       "      <td>f</td>\n",
       "      <td>False</td>\n",
       "      <td>thrilled_back great city charlotte north_carol...</td>\n",
       "      <td>0.483333</td>\n",
       "      <td>0.450000</td>\n",
       "      <td>0.9771</td>\n",
       "      <td>1</td>\n",
       "      <td>1</td>\n",
       "    </tr>\n",
       "    <tr>\n",
       "      <th>2</th>\n",
       "      <td>1218010753434820614</td>\n",
       "      <td>RT @CBS_Herridge: READ: Letter to surveillance...</td>\n",
       "      <td>t</td>\n",
       "      <td>f</td>\n",
       "      <td>Twitter for iPhone</td>\n",
       "      <td>0</td>\n",
       "      <td>7396</td>\n",
       "      <td>2020-01-17 03:22:47</td>\n",
       "      <td>f</td>\n",
       "      <td>True</td>\n",
       "      <td>read letter surveillance court obtained cbs ne...</td>\n",
       "      <td>0.100000</td>\n",
       "      <td>0.100000</td>\n",
       "      <td>0.0000</td>\n",
       "      <td>0</td>\n",
       "      <td>1</td>\n",
       "    </tr>\n",
       "    <tr>\n",
       "      <th>3</th>\n",
       "      <td>1304875170860015617</td>\n",
       "      <td>The Unsolicited Mail In Ballot Scam is a major...</td>\n",
       "      <td>f</td>\n",
       "      <td>f</td>\n",
       "      <td>Twitter for iPhone</td>\n",
       "      <td>80527</td>\n",
       "      <td>23502</td>\n",
       "      <td>2020-09-12 20:10:58</td>\n",
       "      <td>f</td>\n",
       "      <td>False</td>\n",
       "      <td>unsolicited mail_ballot scam major threat demo...</td>\n",
       "      <td>0.454762</td>\n",
       "      <td>0.029464</td>\n",
       "      <td>-0.9552</td>\n",
       "      <td>-1</td>\n",
       "      <td>1</td>\n",
       "    </tr>\n",
       "    <tr>\n",
       "      <th>4</th>\n",
       "      <td>1218159531554897920</td>\n",
       "      <td>RT @MZHemingway: Very friendly telling of even...</td>\n",
       "      <td>t</td>\n",
       "      <td>f</td>\n",
       "      <td>Twitter for iPhone</td>\n",
       "      <td>0</td>\n",
       "      <td>9081</td>\n",
       "      <td>2020-01-17 13:13:59</td>\n",
       "      <td>f</td>\n",
       "      <td>True</td>\n",
       "      <td>friendly telling events comey apparent leaking...</td>\n",
       "      <td>0.425000</td>\n",
       "      <td>0.212500</td>\n",
       "      <td>0.4939</td>\n",
       "      <td>1</td>\n",
       "      <td>1</td>\n",
       "    </tr>\n",
       "  </tbody>\n",
       "</table>\n",
       "</div>"
      ],
      "text/plain": [
       "                    id                                               text  \\\n",
       "0    98454970654916608  Republicans and Democrats have both created ou...   \n",
       "1  1234653427789070336  I was thrilled to be back in the Great city of...   \n",
       "2  1218010753434820614  RT @CBS_Herridge: READ: Letter to surveillance...   \n",
       "3  1304875170860015617  The Unsolicited Mail In Ballot Scam is a major...   \n",
       "4  1218159531554897920  RT @MZHemingway: Very friendly telling of even...   \n",
       "\n",
       "  isRetweet isDeleted              device  favorites  retweets  \\\n",
       "0         f         f           TweetDeck         49       255   \n",
       "1         f         f  Twitter for iPhone      73748     17404   \n",
       "2         t         f  Twitter for iPhone          0      7396   \n",
       "3         f         f  Twitter for iPhone      80527     23502   \n",
       "4         t         f  Twitter for iPhone          0      9081   \n",
       "\n",
       "                  date isFlagged  retweeted  \\\n",
       "0  2011-08-02 18:07:48         f      False   \n",
       "1  2020-03-03 01:34:50         f      False   \n",
       "2  2020-01-17 03:22:47         f       True   \n",
       "3  2020-09-12 20:10:58         f      False   \n",
       "4  2020-01-17 13:13:59         f       True   \n",
       "\n",
       "                                      sentiment_text  subjectivity_score  \\\n",
       "0    republicans democrats created economic problems            0.200000   \n",
       "1  thrilled_back great city charlotte north_carol...            0.483333   \n",
       "2  read letter surveillance court obtained cbs ne...            0.100000   \n",
       "3  unsolicited mail_ballot scam major threat demo...            0.454762   \n",
       "4  friendly telling events comey apparent leaking...            0.425000   \n",
       "\n",
       "   TextBlob_sa  Vader_sa VADER TextBlob  \n",
       "0     0.200000   -0.1779    -1        1  \n",
       "1     0.450000    0.9771     1        1  \n",
       "2     0.100000    0.0000     0        1  \n",
       "3     0.029464   -0.9552    -1        1  \n",
       "4     0.212500    0.4939     1        1  "
      ]
     },
     "execution_count": 388,
     "metadata": {},
     "output_type": "execute_result"
    }
   ],
   "source": [
    "df_tweets.head()"
   ]
  },
  {
   "cell_type": "code",
   "execution_count": 389,
   "metadata": {},
   "outputs": [],
   "source": [
    "df_tweets[['sentiment_text', 'VADER', 'TextBlob']].to_csv('../output/cleaned_dataset.csv', index=False)"
   ]
  },
  {
   "cell_type": "code",
   "execution_count": 390,
   "metadata": {},
   "outputs": [],
   "source": [
    "final_file = pd.read_csv('../output/cleaned_dataset.csv')\n",
    "sentiment_map = pd.read_csv('../output/sentiment_dictionary.csv')\n",
    "sentiment_dict = dict(zip(sentiment_map.words.values, sentiment_map.sentiment_coeff.values))\n",
    "file_weighting = final_file.copy()"
   ]
  },
  {
   "cell_type": "code",
   "execution_count": 391,
   "metadata": {},
   "outputs": [
    {
     "name": "stderr",
     "output_type": "stream",
     "text": [
      "/Users/my_love/opt/anaconda3/lib/python3.8/site-packages/sklearn/feature_extraction/text.py:489: UserWarning: The parameter 'token_pattern' will not be used since 'tokenizer' is not None'\n",
      "  warnings.warn(\"The parameter 'token_pattern' will not be used\"\n"
     ]
    }
   ],
   "source": [
    "tfidf = TfidfVectorizer(tokenizer=lambda y: y.split(), norm=None)\n",
    "tfidf.fit(file_weighting.sentiment_text)\n",
    "features = pd.Series(tfidf.get_feature_names())\n",
    "transformed = tfidf.transform(file_weighting.sentiment_text)"
   ]
  },
  {
   "cell_type": "code",
   "execution_count": 392,
   "metadata": {},
   "outputs": [],
   "source": [
    "def create_tfidf_dictionary(x, transformed_file, features):\n",
    "    '''\n",
    "    create dictionary for each input sentence x, where each word has assigned its tfidf score\n",
    "    \n",
    "    inspired  by function from this wonderful article: \n",
    "    https://medium.com/analytics-vidhya/automated-keyword-extraction-from-articles-using-nlp-bfd864f41b34\n",
    "    \n",
    "    x - row of dataframe, containing sentences, and their indexes,\n",
    "    transformed_file - all sentences transformed with TfidfVectorizer\n",
    "    features - names of all words in corpus used in TfidfVectorizer\n",
    "\n",
    "    '''\n",
    "    vector_coo = transformed_file[x.name].tocoo()\n",
    "    vector_coo.col = features.iloc[vector_coo.col].values\n",
    "    dict_from_coo = dict(zip(vector_coo.col, vector_coo.data))\n",
    "    return dict_from_coo\n",
    "\n",
    "def replace_tfidf_words(x, transformed_file, features):\n",
    "    '''\n",
    "    replacing each word with it's calculated tfidf dictionary with scores of each word\n",
    "    x - row of dataframe, containing sentences, and their indexes,\n",
    "    transformed_file - all sentences transformed with TfidfVectorizer\n",
    "    features - names of all words in corpus used in TfidfVectorizer\n",
    "    '''\n",
    "    dictionary = create_tfidf_dictionary(x, transformed_file, features)   \n",
    "    return list(map(lambda y:dictionary[f'{y}'], x.sentiment_text.split()))"
   ]
  },
  {
   "cell_type": "code",
   "execution_count": 393,
   "metadata": {},
   "outputs": [
    {
     "name": "stdout",
     "output_type": "stream",
     "text": [
      "CPU times: user 12.6 s, sys: 53.3 ms, total: 12.6 s\n",
      "Wall time: 12.7 s\n"
     ]
    }
   ],
   "source": [
    "%%time\n",
    "replaced_tfidf_scores = file_weighting.apply(lambda x: replace_tfidf_words(x, transformed, features), axis=1)\n",
    "#this step takes around 3-4 minutes minutes to calculate"
   ]
  },
  {
   "cell_type": "code",
   "execution_count": 394,
   "metadata": {},
   "outputs": [],
   "source": [
    "def replace_sentiment_words(word, sentiment_dict):\n",
    "    '''\n",
    "    replacing each word with its associated sentiment score from sentiment dict\n",
    "    '''\n",
    "    try:\n",
    "        out = sentiment_dict[word]\n",
    "    except KeyError:\n",
    "        out = 0\n",
    "    return out"
   ]
  },
  {
   "cell_type": "code",
   "execution_count": 395,
   "metadata": {},
   "outputs": [],
   "source": [
    "replaced_closeness_scores = file_weighting.sentiment_text.apply(lambda x: list(map(lambda y: replace_sentiment_words(y, sentiment_dict), x.split())))"
   ]
  },
  {
   "cell_type": "code",
   "execution_count": 396,
   "metadata": {},
   "outputs": [],
   "source": [
    "replacement_df = pd.DataFrame(data=[replaced_closeness_scores, replaced_tfidf_scores, file_weighting.sentiment_text, file_weighting.VADER]).T\n",
    "replacement_df.columns = ['sentiment_coeff', 'tfidf_scores', 'sentence', 'sentiment']\n",
    "replacement_df['sentiment_rate'] = replacement_df.apply(lambda x: np.array(x.loc['sentiment_coeff']) @ np.array(x.loc['tfidf_scores']), axis=1)\n",
    "replacement_df['prediction'] = (replacement_df.sentiment_rate>0).astype('int8')\n",
    "replacement_df['sentiment'] = [1 if i==1 else -1 for i in replacement_df.sentiment]\n",
    "replacement_df['prediction'].replace(0,-1, inplace=True)"
   ]
  },
  {
   "cell_type": "code",
   "execution_count": 397,
   "metadata": {},
   "outputs": [
    {
     "data": {
      "text/html": [
       "<div>\n",
       "<style scoped>\n",
       "    .dataframe tbody tr th:only-of-type {\n",
       "        vertical-align: middle;\n",
       "    }\n",
       "\n",
       "    .dataframe tbody tr th {\n",
       "        vertical-align: top;\n",
       "    }\n",
       "\n",
       "    .dataframe thead th {\n",
       "        text-align: right;\n",
       "    }\n",
       "</style>\n",
       "<table border=\"1\" class=\"dataframe\">\n",
       "  <thead>\n",
       "    <tr style=\"text-align: right;\">\n",
       "      <th></th>\n",
       "      <th>sentiment_coeff</th>\n",
       "      <th>tfidf_scores</th>\n",
       "      <th>sentence</th>\n",
       "      <th>sentiment</th>\n",
       "      <th>sentiment_rate</th>\n",
       "      <th>prediction</th>\n",
       "    </tr>\n",
       "  </thead>\n",
       "  <tbody>\n",
       "    <tr>\n",
       "      <th>0</th>\n",
       "      <td>[-1.0032081886722843, 0.9992893224842098, -1.0...</td>\n",
       "      <td>[5.489166917397826, 4.58797328880549, 7.284189...</td>\n",
       "      <td>republicans democrats created economic problems</td>\n",
       "      <td>-1</td>\n",
       "      <td>-8.320141</td>\n",
       "      <td>-1</td>\n",
       "    </tr>\n",
       "    <tr>\n",
       "      <th>1</th>\n",
       "      <td>[-1.000372480604695, 0.9989952176917658, -1.00...</td>\n",
       "      <td>[9.075948501488753, 3.1859305707174603, 6.2960...</td>\n",
       "      <td>thrilled_back great city charlotte north_carol...</td>\n",
       "      <td>1</td>\n",
       "      <td>-33.690149</td>\n",
       "      <td>-1</td>\n",
       "    </tr>\n",
       "    <tr>\n",
       "      <th>2</th>\n",
       "      <td>[0.9998935654160628, 1.0037705941866502, -1.00...</td>\n",
       "      <td>[6.166158657735486, 7.565356423691285, 8.38280...</td>\n",
       "      <td>read letter surveillance court obtained cbs ne...</td>\n",
       "      <td>-1</td>\n",
       "      <td>16.693269</td>\n",
       "      <td>1</td>\n",
       "    </tr>\n",
       "    <tr>\n",
       "      <th>3</th>\n",
       "      <td>[1.0017545222232345, -1.0002839633854088, 1.00...</td>\n",
       "      <td>[9.511266572746598, 8.913429571990978, 7.00388...</td>\n",
       "      <td>unsolicited mail_ballot scam major threat demo...</td>\n",
       "      <td>-1</td>\n",
       "      <td>-15.410082</td>\n",
       "      <td>-1</td>\n",
       "    </tr>\n",
       "    <tr>\n",
       "      <th>4</th>\n",
       "      <td>[1.0010711474717309, -0.9999162068042134, 0.99...</td>\n",
       "      <td>[8.61332497954064, 7.632495726528913, 7.689654...</td>\n",
       "      <td>friendly telling events comey apparent leaking...</td>\n",
       "      <td>1</td>\n",
       "      <td>-0.688301</td>\n",
       "      <td>-1</td>\n",
       "    </tr>\n",
       "  </tbody>\n",
       "</table>\n",
       "</div>"
      ],
      "text/plain": [
       "                                     sentiment_coeff  \\\n",
       "0  [-1.0032081886722843, 0.9992893224842098, -1.0...   \n",
       "1  [-1.000372480604695, 0.9989952176917658, -1.00...   \n",
       "2  [0.9998935654160628, 1.0037705941866502, -1.00...   \n",
       "3  [1.0017545222232345, -1.0002839633854088, 1.00...   \n",
       "4  [1.0010711474717309, -0.9999162068042134, 0.99...   \n",
       "\n",
       "                                        tfidf_scores  \\\n",
       "0  [5.489166917397826, 4.58797328880549, 7.284189...   \n",
       "1  [9.075948501488753, 3.1859305707174603, 6.2960...   \n",
       "2  [6.166158657735486, 7.565356423691285, 8.38280...   \n",
       "3  [9.511266572746598, 8.913429571990978, 7.00388...   \n",
       "4  [8.61332497954064, 7.632495726528913, 7.689654...   \n",
       "\n",
       "                                            sentence  sentiment  \\\n",
       "0    republicans democrats created economic problems         -1   \n",
       "1  thrilled_back great city charlotte north_carol...          1   \n",
       "2  read letter surveillance court obtained cbs ne...         -1   \n",
       "3  unsolicited mail_ballot scam major threat demo...         -1   \n",
       "4  friendly telling events comey apparent leaking...          1   \n",
       "\n",
       "   sentiment_rate  prediction  \n",
       "0       -8.320141          -1  \n",
       "1      -33.690149          -1  \n",
       "2       16.693269           1  \n",
       "3      -15.410082          -1  \n",
       "4       -0.688301          -1  "
      ]
     },
     "execution_count": 397,
     "metadata": {},
     "output_type": "execute_result"
    }
   ],
   "source": [
    "replacement_df.head()"
   ]
  },
  {
   "cell_type": "code",
   "execution_count": 398,
   "metadata": {},
   "outputs": [
    {
     "data": {
      "text/plain": [
       " 1    28272\n",
       "-1    26402\n",
       "Name: prediction, dtype: int64"
      ]
     },
     "execution_count": 398,
     "metadata": {},
     "output_type": "execute_result"
    }
   ],
   "source": [
    "replacement_df.prediction.value_counts()"
   ]
  },
  {
   "cell_type": "code",
   "execution_count": 399,
   "metadata": {},
   "outputs": [
    {
     "data": {
      "text/plain": [
       "<AxesSubplot:>"
      ]
     },
     "execution_count": 399,
     "metadata": {},
     "output_type": "execute_result"
    },
    {
     "data": {
      "image/png": "[encoded data removed]",
      "text/plain": [
       "<Figure size 432x288 with 1 Axes>"
      ]
     },
     "metadata": {},
     "output_type": "display_data"
    }
   ],
   "source": [
    "replacement_df.prediction.value_counts().plot(kind='bar', rot=0)"
   ]
  },
  {
   "cell_type": "code",
   "execution_count": 400,
   "metadata": {},
   "outputs": [
    {
     "data": {
      "text/plain": [
       "Index(['id', 'text', 'isRetweet', 'isDeleted', 'device', 'favorites',\n",
       "       'retweets', 'date', 'isFlagged', 'retweeted', 'sentiment_text',\n",
       "       'subjectivity_score', 'TextBlob_sa', 'Vader_sa', 'VADER', 'TextBlob',\n",
       "       'sentiment_coeff', 'tfidf_scores', 'sentence', 'sentiment',\n",
       "       'sentiment_rate', 'W2V-kNN'],\n",
       "      dtype='object')"
      ]
     },
     "execution_count": 400,
     "metadata": {},
     "output_type": "execute_result"
    }
   ],
   "source": [
    "df_merged = pd.concat([df_tweets, replacement_df], axis=1)\n",
    "df_merged.rename(columns={\"prediction\": \"W2V-kNN\"}, inplace=True)\n",
    "df_merged.columns"
   ]
  },
  {
   "cell_type": "code",
   "execution_count": 401,
   "metadata": {},
   "outputs": [
    {
     "name": "stdout",
     "output_type": "stream",
     "text": [
      "<class 'pandas.core.frame.DataFrame'>\n",
      "Int64Index: 54674 entries, 0 to 54673\n",
      "Data columns (total 7 columns):\n",
      " #   Column              Non-Null Count  Dtype   \n",
      "---  ------              --------------  -----   \n",
      " 0   id                  54674 non-null  int64   \n",
      " 1   text                54674 non-null  object  \n",
      " 2   sentiment_text      54674 non-null  object  \n",
      " 3   subjectivity_score  54674 non-null  float64 \n",
      " 4   VADER               54674 non-null  category\n",
      " 5   TextBlob            54422 non-null  category\n",
      " 6   W2V-kNN             54674 non-null  int8    \n",
      "dtypes: category(2), float64(1), int64(1), int8(1), object(2)\n",
      "memory usage: 4.7+ MB\n"
     ]
    }
   ],
   "source": [
    "df_final = df_merged.iloc[:,[0,1,10,11,14,15,-1]]\n",
    "df_final.info()"
   ]
  },
  {
   "cell_type": "code",
   "execution_count": 402,
   "metadata": {},
   "outputs": [
    {
     "name": "stderr",
     "output_type": "stream",
     "text": [
      "<ipython-input-402-bdbf950dc954>:1: SettingWithCopyWarning: \n",
      "A value is trying to be set on a copy of a slice from a DataFrame\n",
      "\n",
      "See the caveats in the documentation: https://pandas.pydata.org/pandas-docs/stable/user_guide/indexing.html#returning-a-view-versus-a-copy\n",
      "  df_final.dropna(how='any', inplace=True)\n",
      "/Users/my_love/opt/anaconda3/lib/python3.8/site-packages/pandas/core/generic.py:5168: SettingWithCopyWarning: \n",
      "A value is trying to be set on a copy of a slice from a DataFrame.\n",
      "Try using .loc[row_indexer,col_indexer] = value instead\n",
      "\n",
      "See the caveats in the documentation: https://pandas.pydata.org/pandas-docs/stable/user_guide/indexing.html#returning-a-view-versus-a-copy\n",
      "  self[name] = value\n",
      "<ipython-input-402-bdbf950dc954>:4: SettingWithCopyWarning: \n",
      "A value is trying to be set on a copy of a slice from a DataFrame.\n",
      "Try using .loc[row_indexer,col_indexer] = value instead\n",
      "\n",
      "See the caveats in the documentation: https://pandas.pydata.org/pandas-docs/stable/user_guide/indexing.html#returning-a-view-versus-a-copy\n",
      "  df_final['W2V-kNN'] = df_final['W2V-kNN'].astype(int)\n"
     ]
    }
   ],
   "source": [
    "df_final.dropna(how='any', inplace=True)\n",
    "df_final.VADER = df_final.VADER.astype(int)\n",
    "df_final.TextBlob = df_final.TextBlob.cat.codes - 1\n",
    "df_final['W2V-kNN'] = df_final['W2V-kNN'].astype(int)"
   ]
  },
  {
   "cell_type": "code",
   "execution_count": 403,
   "metadata": {},
   "outputs": [
    {
     "name": "stderr",
     "output_type": "stream",
     "text": [
      "<ipython-input-403-62f24c0e67c7>:1: SettingWithCopyWarning: \n",
      "A value is trying to be set on a copy of a slice from a DataFrame.\n",
      "Try using .loc[row_indexer,col_indexer] = value instead\n",
      "\n",
      "See the caveats in the documentation: https://pandas.pydata.org/pandas-docs/stable/user_guide/indexing.html#returning-a-view-versus-a-copy\n",
      "  df_final['Final'] = (df_final.VADER + df_final.TextBlob + df_final['W2V-kNN'])/3\n"
     ]
    }
   ],
   "source": [
    "df_final['Final'] = (df_final.VADER + df_final.TextBlob + df_final['W2V-kNN'])/3"
   ]
  },
  {
   "cell_type": "code",
   "execution_count": 404,
   "metadata": {},
   "outputs": [
    {
     "name": "stderr",
     "output_type": "stream",
     "text": [
      "<ipython-input-404-03855659e3aa>:3: SettingWithCopyWarning: \n",
      "A value is trying to be set on a copy of a slice from a DataFrame.\n",
      "Try using .loc[row_indexer,col_indexer] = value instead\n",
      "\n",
      "See the caveats in the documentation: https://pandas.pydata.org/pandas-docs/stable/user_guide/indexing.html#returning-a-view-versus-a-copy\n",
      "  df_final['Final'] = pd.cut(df_final['Final'], bins=cut_bins, labels=cut_labels)\n"
     ]
    }
   ],
   "source": [
    "cut_labels = [-1, 0, 1]\n",
    "cut_bins = [-100, -0.00001, 0.00001, 100]\n",
    "df_final['Final'] = pd.cut(df_final['Final'], bins=cut_bins, labels=cut_labels)"
   ]
  },
  {
   "cell_type": "code",
   "execution_count": 405,
   "metadata": {},
   "outputs": [
    {
     "data": {
      "text/plain": [
       "1     33397\n",
       "-1    15045\n",
       "0      5980\n",
       "Name: Final, dtype: int64"
      ]
     },
     "execution_count": 405,
     "metadata": {},
     "output_type": "execute_result"
    }
   ],
   "source": [
    "df_final['Final'].value_counts()"
   ]
  },
  {
   "cell_type": "code",
   "execution_count": 406,
   "metadata": {},
   "outputs": [
    {
     "data": {
      "text/plain": [
       "<AxesSubplot:>"
      ]
     },
     "execution_count": 406,
     "metadata": {},
     "output_type": "execute_result"
    },
    {
     "data": {
      "image/png": "[encoded data removed]",
      "text/plain": [
       "<Figure size 432x288 with 1 Axes>"
      ]
     },
     "metadata": {},
     "output_type": "display_data"
    }
   ],
   "source": [
    "df_final['Final'].value_counts().plot(kind='bar')"
   ]
  },
  {
   "cell_type": "code",
   "execution_count": 407,
   "metadata": {},
   "outputs": [],
   "source": [
    "df_final.to_csv('../output/sentiment_labels.csv')"
   ]
  },
  {
   "cell_type": "code",
   "execution_count": 408,
   "metadata": {},
   "outputs": [
    {
     "data": {
      "text/html": [
       "<div>\n",
       "<style scoped>\n",
       "    .dataframe tbody tr th:only-of-type {\n",
       "        vertical-align: middle;\n",
       "    }\n",
       "\n",
       "    .dataframe tbody tr th {\n",
       "        vertical-align: top;\n",
       "    }\n",
       "\n",
       "    .dataframe thead th {\n",
       "        text-align: right;\n",
       "    }\n",
       "</style>\n",
       "<table border=\"1\" class=\"dataframe\">\n",
       "  <thead>\n",
       "    <tr style=\"text-align: right;\">\n",
       "      <th></th>\n",
       "      <th>id</th>\n",
       "      <th>text</th>\n",
       "      <th>sentiment_text</th>\n",
       "      <th>subjectivity_score</th>\n",
       "      <th>VADER</th>\n",
       "      <th>TextBlob</th>\n",
       "      <th>W2V-kNN</th>\n",
       "      <th>Final</th>\n",
       "    </tr>\n",
       "  </thead>\n",
       "  <tbody>\n",
       "    <tr>\n",
       "      <th>0</th>\n",
       "      <td>98454970654916608</td>\n",
       "      <td>Republicans and Democrats have both created ou...</td>\n",
       "      <td>republicans democrats created economic problems</td>\n",
       "      <td>0.200000</td>\n",
       "      <td>-1</td>\n",
       "      <td>1</td>\n",
       "      <td>-1</td>\n",
       "      <td>-1</td>\n",
       "    </tr>\n",
       "    <tr>\n",
       "      <th>1</th>\n",
       "      <td>1234653427789070336</td>\n",
       "      <td>I was thrilled to be back in the Great city of...</td>\n",
       "      <td>thrilled_back great city charlotte north_carol...</td>\n",
       "      <td>0.483333</td>\n",
       "      <td>1</td>\n",
       "      <td>1</td>\n",
       "      <td>-1</td>\n",
       "      <td>1</td>\n",
       "    </tr>\n",
       "    <tr>\n",
       "      <th>2</th>\n",
       "      <td>1218010753434820614</td>\n",
       "      <td>RT @CBS_Herridge: READ: Letter to surveillance...</td>\n",
       "      <td>read letter surveillance court obtained cbs ne...</td>\n",
       "      <td>0.100000</td>\n",
       "      <td>0</td>\n",
       "      <td>1</td>\n",
       "      <td>1</td>\n",
       "      <td>1</td>\n",
       "    </tr>\n",
       "    <tr>\n",
       "      <th>3</th>\n",
       "      <td>1304875170860015617</td>\n",
       "      <td>The Unsolicited Mail In Ballot Scam is a major...</td>\n",
       "      <td>unsolicited mail_ballot scam major threat demo...</td>\n",
       "      <td>0.454762</td>\n",
       "      <td>-1</td>\n",
       "      <td>1</td>\n",
       "      <td>-1</td>\n",
       "      <td>-1</td>\n",
       "    </tr>\n",
       "    <tr>\n",
       "      <th>4</th>\n",
       "      <td>1218159531554897920</td>\n",
       "      <td>RT @MZHemingway: Very friendly telling of even...</td>\n",
       "      <td>friendly telling events comey apparent leaking...</td>\n",
       "      <td>0.425000</td>\n",
       "      <td>1</td>\n",
       "      <td>1</td>\n",
       "      <td>-1</td>\n",
       "      <td>1</td>\n",
       "    </tr>\n",
       "  </tbody>\n",
       "</table>\n",
       "</div>"
      ],
      "text/plain": [
       "                    id                                               text  \\\n",
       "0    98454970654916608  Republicans and Democrats have both created ou...   \n",
       "1  1234653427789070336  I was thrilled to be back in the Great city of...   \n",
       "2  1218010753434820614  RT @CBS_Herridge: READ: Letter to surveillance...   \n",
       "3  1304875170860015617  The Unsolicited Mail In Ballot Scam is a major...   \n",
       "4  1218159531554897920  RT @MZHemingway: Very friendly telling of even...   \n",
       "\n",
       "                                      sentiment_text  subjectivity_score  \\\n",
       "0    republicans democrats created economic problems            0.200000   \n",
       "1  thrilled_back great city charlotte north_carol...            0.483333   \n",
       "2  read letter surveillance court obtained cbs ne...            0.100000   \n",
       "3  unsolicited mail_ballot scam major threat demo...            0.454762   \n",
       "4  friendly telling events comey apparent leaking...            0.425000   \n",
       "\n",
       "   VADER  TextBlob  W2V-kNN  Final  \n",
       "0     -1         1       -1     -1  \n",
       "1      1         1       -1      1  \n",
       "2      0         1        1      1  \n",
       "3     -1         1       -1     -1  \n",
       "4      1         1       -1      1  "
      ]
     },
     "execution_count": 408,
     "metadata": {},
     "output_type": "execute_result"
    }
   ],
   "source": [
    "df_final = pd.read_csv('../output/sentiment_labels.csv', index_col=None).iloc[:,1:]\n",
    "df_final.head()"
   ]
  },
  {
   "cell_type": "code",
   "execution_count": 409,
   "metadata": {},
   "outputs": [
    {
     "data": {
      "text/plain": [
       " 1    31041\n",
       "-1    14684\n",
       " 0     8697\n",
       "Name: VADER, dtype: int64"
      ]
     },
     "execution_count": 409,
     "metadata": {},
     "output_type": "execute_result"
    }
   ],
   "source": [
    "df_final['VADER'].value_counts()"
   ]
  },
  {
   "cell_type": "code",
   "execution_count": 410,
   "metadata": {},
   "outputs": [
    {
     "data": {
      "text/plain": [
       " 1    28536\n",
       " 0    15852\n",
       "-1    10034\n",
       "Name: TextBlob, dtype: int64"
      ]
     },
     "execution_count": 410,
     "metadata": {},
     "output_type": "execute_result"
    }
   ],
   "source": [
    "df_final['TextBlob'].value_counts()"
   ]
  },
  {
   "cell_type": "code",
   "execution_count": 411,
   "metadata": {},
   "outputs": [
    {
     "data": {
      "text/plain": [
       " 1    28148\n",
       "-1    26274\n",
       "Name: W2V-kNN, dtype: int64"
      ]
     },
     "execution_count": 411,
     "metadata": {},
     "output_type": "execute_result"
    }
   ],
   "source": [
    "df_final['W2V-kNN'].value_counts()"
   ]
  },
  {
   "cell_type": "code",
   "execution_count": 412,
   "metadata": {},
   "outputs": [
    {
     "data": {
      "text/plain": [
       " 1    33397\n",
       "-1    15045\n",
       " 0     5980\n",
       "Name: Final, dtype: int64"
      ]
     },
     "execution_count": 412,
     "metadata": {},
     "output_type": "execute_result"
    }
   ],
   "source": [
    "df_final['Final'].value_counts()"
   ]
  },
  {
   "cell_type": "code",
   "execution_count": null,
   "metadata": {},
   "outputs": [],
   "source": []
  }
 ],
 "metadata": {
  "kernelspec": {
   "display_name": "Python 3",
   "language": "python",
   "name": "python3"
  },
  "language_info": {
   "codemirror_mode": {
    "name": "ipython",
    "version": 3
   },
   "file_extension": ".py",
   "mimetype": "text/x-python",
   "name": "python",
   "nbconvert_exporter": "python",
   "pygments_lexer": "ipython3",
   "version": "3.8.5"
  }
 },
 "nbformat": 4,
 "nbformat_minor": 4
}
