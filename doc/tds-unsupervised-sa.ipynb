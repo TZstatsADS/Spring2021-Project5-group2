{
 "cells": [
  {
   "cell_type": "code",
   "execution_count": 1,
   "metadata": {},
   "outputs": [],
   "source": [
    "import pandas as pd\n",
    "import swifter\n",
    "import numpy as np\n",
    "import gc\n",
    "\n",
    "from gensim.models import Word2Vec\n",
    "from gensim.models.phrases import Phrases, Phraser\n",
    "from time import time \n",
    "from sklearn.cluster import KMeans\n",
    "from sklearn.feature_extraction.text import TfidfVectorizer\n",
    "from sklearn.metrics import accuracy_score, confusion_matrix, precision_score, recall_score, f1_score"
   ]
  },
  {
   "cell_type": "code",
   "execution_count": 2,
   "metadata": {},
   "outputs": [
    {
     "data": {
      "text/html": [
       "<div>\n",
       "<style scoped>\n",
       "    .dataframe tbody tr th:only-of-type {\n",
       "        vertical-align: middle;\n",
       "    }\n",
       "\n",
       "    .dataframe tbody tr th {\n",
       "        vertical-align: top;\n",
       "    }\n",
       "\n",
       "    .dataframe thead th {\n",
       "        text-align: right;\n",
       "    }\n",
       "</style>\n",
       "<table border=\"1\" class=\"dataframe\">\n",
       "  <thead>\n",
       "    <tr style=\"text-align: right;\">\n",
       "      <th></th>\n",
       "      <th>id</th>\n",
       "      <th>text</th>\n",
       "      <th>isRetweet</th>\n",
       "      <th>isDeleted</th>\n",
       "      <th>device</th>\n",
       "      <th>favorites</th>\n",
       "      <th>retweets</th>\n",
       "      <th>date</th>\n",
       "      <th>isFlagged</th>\n",
       "      <th>retweeted</th>\n",
       "      <th>sentiment_text</th>\n",
       "      <th>subjectivity_score</th>\n",
       "      <th>polarity</th>\n",
       "      <th>sentiment_vader</th>\n",
       "    </tr>\n",
       "  </thead>\n",
       "  <tbody>\n",
       "    <tr>\n",
       "      <th>0</th>\n",
       "      <td>98454970654916608</td>\n",
       "      <td>Republicans and Democrats have both created ou...</td>\n",
       "      <td>f</td>\n",
       "      <td>f</td>\n",
       "      <td>TweetDeck</td>\n",
       "      <td>49</td>\n",
       "      <td>255</td>\n",
       "      <td>2011-08-02 18:07:48</td>\n",
       "      <td>f</td>\n",
       "      <td>False</td>\n",
       "      <td>republicans democrats created economic problems</td>\n",
       "      <td>0.200000</td>\n",
       "      <td>0.200000</td>\n",
       "      <td>-0.1779</td>\n",
       "    </tr>\n",
       "    <tr>\n",
       "      <th>1</th>\n",
       "      <td>1234653427789070336</td>\n",
       "      <td>I was thrilled to be back in the Great city of...</td>\n",
       "      <td>f</td>\n",
       "      <td>f</td>\n",
       "      <td>Twitter for iPhone</td>\n",
       "      <td>73748</td>\n",
       "      <td>17404</td>\n",
       "      <td>2020-03-03 01:34:50</td>\n",
       "      <td>f</td>\n",
       "      <td>False</td>\n",
       "      <td>thrilled back great city charlotte north carol...</td>\n",
       "      <td>0.483333</td>\n",
       "      <td>0.450000</td>\n",
       "      <td>0.9771</td>\n",
       "    </tr>\n",
       "    <tr>\n",
       "      <th>2</th>\n",
       "      <td>1218010753434820614</td>\n",
       "      <td>RT @CBS_Herridge: READ: Letter to surveillance...</td>\n",
       "      <td>t</td>\n",
       "      <td>f</td>\n",
       "      <td>Twitter for iPhone</td>\n",
       "      <td>0</td>\n",
       "      <td>7396</td>\n",
       "      <td>2020-01-17 03:22:47</td>\n",
       "      <td>f</td>\n",
       "      <td>True</td>\n",
       "      <td>read letter surveillance court obtained cbs ne...</td>\n",
       "      <td>0.100000</td>\n",
       "      <td>0.100000</td>\n",
       "      <td>0.0000</td>\n",
       "    </tr>\n",
       "    <tr>\n",
       "      <th>3</th>\n",
       "      <td>1304875170860015617</td>\n",
       "      <td>The Unsolicited Mail In Ballot Scam is a major...</td>\n",
       "      <td>f</td>\n",
       "      <td>f</td>\n",
       "      <td>Twitter for iPhone</td>\n",
       "      <td>80527</td>\n",
       "      <td>23502</td>\n",
       "      <td>2020-09-12 20:10:58</td>\n",
       "      <td>f</td>\n",
       "      <td>False</td>\n",
       "      <td>unsolicited mail ballot scam major threat demo...</td>\n",
       "      <td>0.454762</td>\n",
       "      <td>0.029464</td>\n",
       "      <td>-0.9552</td>\n",
       "    </tr>\n",
       "    <tr>\n",
       "      <th>4</th>\n",
       "      <td>1218159531554897920</td>\n",
       "      <td>RT @MZHemingway: Very friendly telling of even...</td>\n",
       "      <td>t</td>\n",
       "      <td>f</td>\n",
       "      <td>Twitter for iPhone</td>\n",
       "      <td>0</td>\n",
       "      <td>9081</td>\n",
       "      <td>2020-01-17 13:13:59</td>\n",
       "      <td>f</td>\n",
       "      <td>True</td>\n",
       "      <td>friendly telling events comey apparent leaking...</td>\n",
       "      <td>0.425000</td>\n",
       "      <td>0.212500</td>\n",
       "      <td>0.4939</td>\n",
       "    </tr>\n",
       "  </tbody>\n",
       "</table>\n",
       "</div>"
      ],
      "text/plain": [
       "                    id                                               text  \\\n",
       "0    98454970654916608  Republicans and Democrats have both created ou...   \n",
       "1  1234653427789070336  I was thrilled to be back in the Great city of...   \n",
       "2  1218010753434820614  RT @CBS_Herridge: READ: Letter to surveillance...   \n",
       "3  1304875170860015617  The Unsolicited Mail In Ballot Scam is a major...   \n",
       "4  1218159531554897920  RT @MZHemingway: Very friendly telling of even...   \n",
       "\n",
       "  isRetweet isDeleted              device  favorites  retweets  \\\n",
       "0         f         f           TweetDeck         49       255   \n",
       "1         f         f  Twitter for iPhone      73748     17404   \n",
       "2         t         f  Twitter for iPhone          0      7396   \n",
       "3         f         f  Twitter for iPhone      80527     23502   \n",
       "4         t         f  Twitter for iPhone          0      9081   \n",
       "\n",
       "                  date isFlagged  retweeted  \\\n",
       "0  2011-08-02 18:07:48         f      False   \n",
       "1  2020-03-03 01:34:50         f      False   \n",
       "2  2020-01-17 03:22:47         f       True   \n",
       "3  2020-09-12 20:10:58         f      False   \n",
       "4  2020-01-17 13:13:59         f       True   \n",
       "\n",
       "                                      sentiment_text  subjectivity_score  \\\n",
       "0    republicans democrats created economic problems            0.200000   \n",
       "1  thrilled back great city charlotte north carol...            0.483333   \n",
       "2  read letter surveillance court obtained cbs ne...            0.100000   \n",
       "3  unsolicited mail ballot scam major threat demo...            0.454762   \n",
       "4  friendly telling events comey apparent leaking...            0.425000   \n",
       "\n",
       "   polarity  sentiment_vader  \n",
       "0  0.200000          -0.1779  \n",
       "1  0.450000           0.9771  \n",
       "2  0.100000           0.0000  \n",
       "3  0.029464          -0.9552  \n",
       "4  0.212500           0.4939  "
      ]
     },
     "execution_count": 2,
     "metadata": {},
     "output_type": "execute_result"
    }
   ],
   "source": [
    "df_tweets = pd.read_csv('../output/sentiment_analysis_clean.csv')\n",
    "df_tweets.head()"
   ]
  },
  {
   "cell_type": "code",
   "execution_count": 3,
   "metadata": {},
   "outputs": [],
   "source": [
    "# Removing empty sentiment_text\n",
    "df_tweets = df_tweets[-df_tweets.sentiment_text.isna()]"
   ]
  },
  {
   "cell_type": "code",
   "execution_count": 4,
   "metadata": {},
   "outputs": [
    {
     "data": {
      "application/vnd.jupyter.widget-view+json": {
       "model_id": "ba277b26571443348893d1e0fac1a8f9",
       "version_major": 2,
       "version_minor": 0
      },
      "text/plain": [
       "HBox(children=(HTML(value='Pandas Apply'), FloatProgress(value=0.0, max=54682.0), HTML(value='')))"
      ]
     },
     "metadata": {},
     "output_type": "display_data"
    },
    {
     "name": "stdout",
     "output_type": "stream",
     "text": [
      "\n"
     ]
    }
   ],
   "source": [
    "# Tokenizing sentiment_text for compatibility with gensim package\n",
    "df_tweets.sentiment_text = df_tweets.sentiment_text.swifter.apply(lambda x: x.split())"
   ]
  },
  {
   "cell_type": "code",
   "execution_count": 5,
   "metadata": {},
   "outputs": [
    {
     "data": {
      "text/plain": [
       "0    [republicans, democrats, created, economic, pr...\n",
       "1    [thrilled, back, great, city, charlotte, north...\n",
       "2    [read, letter, surveillance, court, obtained, ...\n",
       "3    [unsolicited, mail, ballot, scam, major, threa...\n",
       "4    [friendly, telling, events, comey, apparent, l...\n",
       "Name: sentiment_text, dtype: object"
      ]
     },
     "execution_count": 5,
     "metadata": {},
     "output_type": "execute_result"
    }
   ],
   "source": [
    "df_tweets.sentiment_text.head()"
   ]
  },
  {
   "cell_type": "code",
   "execution_count": 6,
   "metadata": {},
   "outputs": [],
   "source": [
    "corpus = [tweet for tweet in df_tweets.sentiment_text]\n",
    "phrases = Phrases(corpus, min_count=10)\n",
    "bigram = Phraser(phrases)\n",
    "sentences = bigram[corpus]"
   ]
  },
  {
   "cell_type": "code",
   "execution_count": 7,
   "metadata": {},
   "outputs": [
    {
     "data": {
      "text/plain": [
       "['thrilled_back',\n",
       " 'great',\n",
       " 'city',\n",
       " 'charlotte',\n",
       " 'north_carolina',\n",
       " 'thousands',\n",
       " 'hardworking_american',\n",
       " 'patriots',\n",
       " 'love',\n",
       " 'country',\n",
       " 'cherish',\n",
       " 'values',\n",
       " 'respect',\n",
       " 'laws',\n",
       " 'always',\n",
       " 'put',\n",
       " 'america',\n",
       " 'first',\n",
       " 'thank',\n",
       " 'wonderful',\n",
       " 'evening']"
      ]
     },
     "execution_count": 7,
     "metadata": {},
     "output_type": "execute_result"
    }
   ],
   "source": [
    "# Example of sentence with bigram token\n",
    "sentences[1]"
   ]
  },
  {
   "cell_type": "code",
   "execution_count": 8,
   "metadata": {},
   "outputs": [
    {
     "name": "stdout",
     "output_type": "stream",
     "text": [
      "Time to build vocab: 0.13 mins\n"
     ]
    }
   ],
   "source": [
    "w2v_model = Word2Vec(min_count=1,\n",
    "                     window=7,\n",
    "                     size=300,\n",
    "                     sample=1e-5, \n",
    "                     alpha=0.03, \n",
    "                     min_alpha=0.0007, \n",
    "                     negative=10,\n",
    "                     workers=-1)\n",
    "\n",
    "start = time()\n",
    "\n",
    "w2v_model.build_vocab(sentences, \n",
    "                      progress_per=50000)\n",
    "\n",
    "print('Time to build vocab: {} mins'.format(round((time() - start) / 60, 2)))"
   ]
  },
  {
   "cell_type": "code",
   "execution_count": 9,
   "metadata": {},
   "outputs": [
    {
     "name": "stdout",
     "output_type": "stream",
     "text": [
      "Time to train the model: 5.67 mins\n"
     ]
    }
   ],
   "source": [
    "start = time()\n",
    "\n",
    "w2v_model.train(sentences, total_examples=w2v_model.corpus_count, epochs=200, report_delay=1)\n",
    "\n",
    "print('Time to train the model: {} mins'.format(round((time() - start) / 60, 2)))\n",
    "\n",
    "w2v_model.init_sims(replace=True)"
   ]
  },
  {
   "cell_type": "code",
   "execution_count": 10,
   "metadata": {},
   "outputs": [],
   "source": [
    "w2v_model.save(\"../output/word2vec.model\")"
   ]
  },
  {
   "cell_type": "code",
   "execution_count": 11,
   "metadata": {},
   "outputs": [],
   "source": [
    "word_vectors = Word2Vec.load(\"../output/word2vec.model\").wv"
   ]
  },
  {
   "cell_type": "code",
   "execution_count": 12,
   "metadata": {},
   "outputs": [],
   "source": [
    "model = KMeans(n_clusters=2, max_iter=1000, random_state=True, n_init=50).fit(X=word_vectors.vectors.astype('double'))"
   ]
  },
  {
   "cell_type": "code",
   "execution_count": 13,
   "metadata": {},
   "outputs": [
    {
     "data": {
      "text/plain": [
       "[('deput', 0.26019206643104553),\n",
       " ('damn', 0.23797738552093506),\n",
       " ('drag', 0.2337319254875183),\n",
       " ('urges', 0.22915586829185486),\n",
       " ('pleads', 0.2288428097963333),\n",
       " ('underprivileged', 0.22506189346313477),\n",
       " ('full', 0.22253739833831787),\n",
       " ('hou', 0.22169075906276703),\n",
       " ('transformation', 0.21646098792552948),\n",
       " ('agrmt', 0.21480843424797058),\n",
       " ('discriminating', 0.21201133728027344),\n",
       " ('received', 0.21120406687259674),\n",
       " ('fugedaboudit', 0.20559315383434296),\n",
       " ('का', 0.20058129727840424),\n",
       " ('leaderless', 0.19846221804618835),\n",
       " ('restless', 0.1980617344379425),\n",
       " ('ramadi', 0.19575829803943634),\n",
       " ('scientist', 0.19528135657310486),\n",
       " ('middlemen', 0.1946336030960083),\n",
       " ('reli', 0.1943628489971161),\n",
       " ('nvgopoo', 0.19341778755187988),\n",
       " ('stepped', 0.19085195660591125),\n",
       " ('boarder', 0.19013434648513794),\n",
       " ('nuestros', 0.18865683674812317),\n",
       " ('convention_center', 0.1882108449935913),\n",
       " ('grack', 0.18773826956748962),\n",
       " ('globes', 0.18724016845226288),\n",
       " ('legacy', 0.187214657664299),\n",
       " ('tyrone', 0.18718555569648743),\n",
       " ('confidant', 0.1870429515838623),\n",
       " ('laughing', 0.18614143133163452),\n",
       " ('redevelopment', 0.18575066328048706),\n",
       " ('india', 0.18530039489269257),\n",
       " ('reauthorizatio', 0.18467706441879272),\n",
       " ('niro', 0.18466956913471222),\n",
       " ('dwindling', 0.1846349835395813),\n",
       " ('roast', 0.18429073691368103),\n",
       " ('holding', 0.18405011296272278),\n",
       " ('san_francisco', 0.1838555634021759),\n",
       " ('concealing', 0.18323791027069092),\n",
       " ('irrelevant', 0.1820240020751953),\n",
       " ('stabbed', 0.18189571797847748),\n",
       " ('redeployed', 0.18173187971115112),\n",
       " ('yspz', 0.18061615526676178),\n",
       " ('reflective', 0.18019728362560272),\n",
       " ('loft', 0.1800888180732727),\n",
       " ('nk', 0.17873957753181458),\n",
       " ('souza', 0.17864570021629333),\n",
       " ('libby', 0.17764437198638916),\n",
       " ('csi', 0.1773742139339447)]"
      ]
     },
     "execution_count": 13,
     "metadata": {},
     "output_type": "execute_result"
    }
   ],
   "source": [
    "word_vectors.similar_by_vector(model.cluster_centers_[0], topn=50, restrict_vocab=None)"
   ]
  },
  {
   "cell_type": "code",
   "execution_count": 14,
   "metadata": {},
   "outputs": [],
   "source": [
    "positive_cluster_index = 1\n",
    "positive_cluster_center = model.cluster_centers_[positive_cluster_index]\n",
    "negative_cluster_center = model.cluster_centers_[1-positive_cluster_index]"
   ]
  },
  {
   "cell_type": "code",
   "execution_count": 15,
   "metadata": {},
   "outputs": [],
   "source": [
    "words = pd.DataFrame(word_vectors.vocab.keys())\n",
    "words.columns = ['words']\n",
    "words['vectors'] = words.words.apply(lambda x: word_vectors[f'{x}'])\n",
    "words['cluster'] = words.vectors.apply(lambda x: model.predict([np.array(x)]))\n",
    "words.cluster = words.cluster.apply(lambda x: x[0])"
   ]
  },
  {
   "cell_type": "code",
   "execution_count": 16,
   "metadata": {},
   "outputs": [],
   "source": [
    "words['cluster_value'] = [1 if i==positive_cluster_index else -1 for i in words.cluster]\n",
    "words['closeness_score'] = words.apply(lambda x: 1/(model.transform([x.vectors]).min()), axis=1)\n",
    "words['sentiment_coeff'] = words.closeness_score * words.cluster_value"
   ]
  },
  {
   "cell_type": "code",
   "execution_count": 17,
   "metadata": {},
   "outputs": [
    {
     "data": {
      "text/html": [
       "<div>\n",
       "<style scoped>\n",
       "    .dataframe tbody tr th:only-of-type {\n",
       "        vertical-align: middle;\n",
       "    }\n",
       "\n",
       "    .dataframe tbody tr th {\n",
       "        vertical-align: top;\n",
       "    }\n",
       "\n",
       "    .dataframe thead th {\n",
       "        text-align: right;\n",
       "    }\n",
       "</style>\n",
       "<table border=\"1\" class=\"dataframe\">\n",
       "  <thead>\n",
       "    <tr style=\"text-align: right;\">\n",
       "      <th></th>\n",
       "      <th>words</th>\n",
       "      <th>vectors</th>\n",
       "      <th>cluster</th>\n",
       "      <th>cluster_value</th>\n",
       "      <th>closeness_score</th>\n",
       "      <th>sentiment_coeff</th>\n",
       "    </tr>\n",
       "  </thead>\n",
       "  <tbody>\n",
       "    <tr>\n",
       "      <th>0</th>\n",
       "      <td>republicans</td>\n",
       "      <td>[-0.07110349, -0.025191968, -0.08671407, 0.058...</td>\n",
       "      <td>1</td>\n",
       "      <td>1</td>\n",
       "      <td>1.000480</td>\n",
       "      <td>1.000480</td>\n",
       "    </tr>\n",
       "    <tr>\n",
       "      <th>1</th>\n",
       "      <td>democrats</td>\n",
       "      <td>[-0.0658061, -0.045763083, 0.0062641744, -0.07...</td>\n",
       "      <td>0</td>\n",
       "      <td>-1</td>\n",
       "      <td>0.999538</td>\n",
       "      <td>-0.999538</td>\n",
       "    </tr>\n",
       "    <tr>\n",
       "      <th>2</th>\n",
       "      <td>created</td>\n",
       "      <td>[0.071988665, -0.0070708175, -0.074470125, -0....</td>\n",
       "      <td>0</td>\n",
       "      <td>-1</td>\n",
       "      <td>1.001193</td>\n",
       "      <td>-1.001193</td>\n",
       "    </tr>\n",
       "    <tr>\n",
       "      <th>3</th>\n",
       "      <td>economic</td>\n",
       "      <td>[-0.0441206, 0.059933588, -0.061323702, 0.0252...</td>\n",
       "      <td>0</td>\n",
       "      <td>-1</td>\n",
       "      <td>1.002016</td>\n",
       "      <td>-1.002016</td>\n",
       "    </tr>\n",
       "    <tr>\n",
       "      <th>4</th>\n",
       "      <td>problems</td>\n",
       "      <td>[0.027862642, -0.042273946, -0.09378257, 0.073...</td>\n",
       "      <td>1</td>\n",
       "      <td>1</td>\n",
       "      <td>1.003196</td>\n",
       "      <td>1.003196</td>\n",
       "    </tr>\n",
       "    <tr>\n",
       "      <th>5</th>\n",
       "      <td>thrilled_back</td>\n",
       "      <td>[0.068564594, -0.06965178, 0.029105265, -0.028...</td>\n",
       "      <td>1</td>\n",
       "      <td>1</td>\n",
       "      <td>1.003414</td>\n",
       "      <td>1.003414</td>\n",
       "    </tr>\n",
       "    <tr>\n",
       "      <th>6</th>\n",
       "      <td>great</td>\n",
       "      <td>[0.011052817, -0.05028947, 0.07885971, 0.09781...</td>\n",
       "      <td>0</td>\n",
       "      <td>-1</td>\n",
       "      <td>0.999821</td>\n",
       "      <td>-0.999821</td>\n",
       "    </tr>\n",
       "    <tr>\n",
       "      <th>7</th>\n",
       "      <td>city</td>\n",
       "      <td>[-0.09409202, -0.07065746, 0.024974078, 0.0717...</td>\n",
       "      <td>0</td>\n",
       "      <td>-1</td>\n",
       "      <td>1.000441</td>\n",
       "      <td>-1.000441</td>\n",
       "    </tr>\n",
       "    <tr>\n",
       "      <th>8</th>\n",
       "      <td>charlotte</td>\n",
       "      <td>[-0.09808405, 0.07502868, 0.09620452, 0.007705...</td>\n",
       "      <td>0</td>\n",
       "      <td>-1</td>\n",
       "      <td>1.000240</td>\n",
       "      <td>-1.000240</td>\n",
       "    </tr>\n",
       "    <tr>\n",
       "      <th>9</th>\n",
       "      <td>north_carolina</td>\n",
       "      <td>[-0.003225523, 0.09151151, -0.07969001, 0.0545...</td>\n",
       "      <td>0</td>\n",
       "      <td>-1</td>\n",
       "      <td>0.998586</td>\n",
       "      <td>-0.998586</td>\n",
       "    </tr>\n",
       "    <tr>\n",
       "      <th>10</th>\n",
       "      <td>thousands</td>\n",
       "      <td>[-0.059735034, 0.027748756, -0.071952865, 0.09...</td>\n",
       "      <td>1</td>\n",
       "      <td>1</td>\n",
       "      <td>1.000800</td>\n",
       "      <td>1.000800</td>\n",
       "    </tr>\n",
       "    <tr>\n",
       "      <th>11</th>\n",
       "      <td>hardworking_american</td>\n",
       "      <td>[-0.03138771, 0.08575032, 0.05115277, 0.013232...</td>\n",
       "      <td>1</td>\n",
       "      <td>1</td>\n",
       "      <td>1.001606</td>\n",
       "      <td>1.001606</td>\n",
       "    </tr>\n",
       "    <tr>\n",
       "      <th>12</th>\n",
       "      <td>patriots</td>\n",
       "      <td>[-0.0005895011, -0.032720964, 0.062934026, -0....</td>\n",
       "      <td>1</td>\n",
       "      <td>1</td>\n",
       "      <td>1.002819</td>\n",
       "      <td>1.002819</td>\n",
       "    </tr>\n",
       "    <tr>\n",
       "      <th>13</th>\n",
       "      <td>love</td>\n",
       "      <td>[0.0092059625, 0.041814946, 0.0011201915, 0.08...</td>\n",
       "      <td>1</td>\n",
       "      <td>1</td>\n",
       "      <td>0.999682</td>\n",
       "      <td>0.999682</td>\n",
       "    </tr>\n",
       "    <tr>\n",
       "      <th>14</th>\n",
       "      <td>country</td>\n",
       "      <td>[0.077553, 0.025624251, 0.0120114675, 0.049850...</td>\n",
       "      <td>0</td>\n",
       "      <td>-1</td>\n",
       "      <td>0.999443</td>\n",
       "      <td>-0.999443</td>\n",
       "    </tr>\n",
       "    <tr>\n",
       "      <th>15</th>\n",
       "      <td>cherish</td>\n",
       "      <td>[-0.005047045, 0.07295681, -0.04445681, 0.0028...</td>\n",
       "      <td>0</td>\n",
       "      <td>-1</td>\n",
       "      <td>1.003907</td>\n",
       "      <td>-1.003907</td>\n",
       "    </tr>\n",
       "    <tr>\n",
       "      <th>16</th>\n",
       "      <td>values</td>\n",
       "      <td>[0.0860009, -0.04039545, 0.021312753, -0.09269...</td>\n",
       "      <td>1</td>\n",
       "      <td>1</td>\n",
       "      <td>1.001894</td>\n",
       "      <td>1.001894</td>\n",
       "    </tr>\n",
       "    <tr>\n",
       "      <th>17</th>\n",
       "      <td>respect</td>\n",
       "      <td>[-0.03964145, -0.06380135, 0.02638297, -0.0679...</td>\n",
       "      <td>1</td>\n",
       "      <td>1</td>\n",
       "      <td>1.002062</td>\n",
       "      <td>1.002062</td>\n",
       "    </tr>\n",
       "    <tr>\n",
       "      <th>18</th>\n",
       "      <td>laws</td>\n",
       "      <td>[-0.010732139, -0.045108397, 0.048104484, -0.0...</td>\n",
       "      <td>0</td>\n",
       "      <td>-1</td>\n",
       "      <td>0.998675</td>\n",
       "      <td>-0.998675</td>\n",
       "    </tr>\n",
       "    <tr>\n",
       "      <th>19</th>\n",
       "      <td>always</td>\n",
       "      <td>[-0.0260334, -0.00983191, 0.040378496, -0.0034...</td>\n",
       "      <td>0</td>\n",
       "      <td>-1</td>\n",
       "      <td>1.000363</td>\n",
       "      <td>-1.000363</td>\n",
       "    </tr>\n",
       "  </tbody>\n",
       "</table>\n",
       "</div>"
      ],
      "text/plain": [
       "                   words                                            vectors  \\\n",
       "0            republicans  [-0.07110349, -0.025191968, -0.08671407, 0.058...   \n",
       "1              democrats  [-0.0658061, -0.045763083, 0.0062641744, -0.07...   \n",
       "2                created  [0.071988665, -0.0070708175, -0.074470125, -0....   \n",
       "3               economic  [-0.0441206, 0.059933588, -0.061323702, 0.0252...   \n",
       "4               problems  [0.027862642, -0.042273946, -0.09378257, 0.073...   \n",
       "5          thrilled_back  [0.068564594, -0.06965178, 0.029105265, -0.028...   \n",
       "6                  great  [0.011052817, -0.05028947, 0.07885971, 0.09781...   \n",
       "7                   city  [-0.09409202, -0.07065746, 0.024974078, 0.0717...   \n",
       "8              charlotte  [-0.09808405, 0.07502868, 0.09620452, 0.007705...   \n",
       "9         north_carolina  [-0.003225523, 0.09151151, -0.07969001, 0.0545...   \n",
       "10             thousands  [-0.059735034, 0.027748756, -0.071952865, 0.09...   \n",
       "11  hardworking_american  [-0.03138771, 0.08575032, 0.05115277, 0.013232...   \n",
       "12              patriots  [-0.0005895011, -0.032720964, 0.062934026, -0....   \n",
       "13                  love  [0.0092059625, 0.041814946, 0.0011201915, 0.08...   \n",
       "14               country  [0.077553, 0.025624251, 0.0120114675, 0.049850...   \n",
       "15               cherish  [-0.005047045, 0.07295681, -0.04445681, 0.0028...   \n",
       "16                values  [0.0860009, -0.04039545, 0.021312753, -0.09269...   \n",
       "17               respect  [-0.03964145, -0.06380135, 0.02638297, -0.0679...   \n",
       "18                  laws  [-0.010732139, -0.045108397, 0.048104484, -0.0...   \n",
       "19                always  [-0.0260334, -0.00983191, 0.040378496, -0.0034...   \n",
       "\n",
       "    cluster  cluster_value  closeness_score  sentiment_coeff  \n",
       "0         1              1         1.000480         1.000480  \n",
       "1         0             -1         0.999538        -0.999538  \n",
       "2         0             -1         1.001193        -1.001193  \n",
       "3         0             -1         1.002016        -1.002016  \n",
       "4         1              1         1.003196         1.003196  \n",
       "5         1              1         1.003414         1.003414  \n",
       "6         0             -1         0.999821        -0.999821  \n",
       "7         0             -1         1.000441        -1.000441  \n",
       "8         0             -1         1.000240        -1.000240  \n",
       "9         0             -1         0.998586        -0.998586  \n",
       "10        1              1         1.000800         1.000800  \n",
       "11        1              1         1.001606         1.001606  \n",
       "12        1              1         1.002819         1.002819  \n",
       "13        1              1         0.999682         0.999682  \n",
       "14        0             -1         0.999443        -0.999443  \n",
       "15        0             -1         1.003907        -1.003907  \n",
       "16        1              1         1.001894         1.001894  \n",
       "17        1              1         1.002062         1.002062  \n",
       "18        0             -1         0.998675        -0.998675  \n",
       "19        0             -1         1.000363        -1.000363  "
      ]
     },
     "execution_count": 17,
     "metadata": {},
     "output_type": "execute_result"
    }
   ],
   "source": [
    "words.head(20)"
   ]
  },
  {
   "cell_type": "code",
   "execution_count": 18,
   "metadata": {},
   "outputs": [],
   "source": [
    "words[['words', 'sentiment_coeff']].to_csv('../output/sentiment_dictionary.csv', index=False)"
   ]
  },
  {
   "cell_type": "code",
   "execution_count": 19,
   "metadata": {},
   "outputs": [
    {
     "data": {
      "application/vnd.jupyter.widget-view+json": {
       "model_id": "2d48e41eb67542c68c93173c255bf983",
       "version_major": 2,
       "version_minor": 0
      },
      "text/plain": [
       "HBox(children=(HTML(value='Pandas Apply'), FloatProgress(value=0.0, max=54682.0), HTML(value='')))"
      ]
     },
     "metadata": {},
     "output_type": "display_data"
    },
    {
     "name": "stdout",
     "output_type": "stream",
     "text": [
      "\n"
     ]
    }
   ],
   "source": [
    "df_tweets.sentiment_text = df_tweets.sentiment_text.swifter.apply(lambda x: ' '.join(bigram[x]))"
   ]
  },
  {
   "cell_type": "code",
   "execution_count": 22,
   "metadata": {},
   "outputs": [
    {
     "data": {
      "text/plain": [
       " 0.000000    15817\n",
       " 0.800000     2472\n",
       " 0.200000     2109\n",
       " 0.500000     1931\n",
       " 0.400000     1374\n",
       "             ...  \n",
       " 0.013889        1\n",
       "-0.103646        1\n",
       " 0.022222        1\n",
       " 0.482500        1\n",
       " 0.127083        1\n",
       "Name: polarity, Length: 4250, dtype: int64"
      ]
     },
     "execution_count": 22,
     "metadata": {},
     "output_type": "execute_result"
    }
   ],
   "source": [
    "df_tweets['polarity'].value_counts()"
   ]
  },
  {
   "cell_type": "code",
   "execution_count": 108,
   "metadata": {},
   "outputs": [
    {
     "data": {
      "text/plain": [
       "<AxesSubplot:ylabel='Frequency'>"
      ]
     },
     "execution_count": 108,
     "metadata": {},
     "output_type": "execute_result"
    },
    {
     "data": {
      "image/png": "[encoded data removed]",
      "text/plain": [
       "<Figure size 432x288 with 1 Axes>"
      ]
     },
     "metadata": {
      "needs_background": "light"
     },
     "output_type": "display_data"
    }
   ],
   "source": [
    "df_tweets.sentiment_vader.plot(kind='hist')"
   ]
  },
  {
   "cell_type": "code",
   "execution_count": 23,
   "metadata": {},
   "outputs": [],
   "source": [
    "cut_labels = [-1, 0, 1]\n",
    "cut_bins = [-1, -0.00000001, 0.00000001, 1]\n",
    "df_tweets['VADER'] = pd.cut(df_tweets.sentiment_vader, bins=cut_bins, labels=cut_labels)\n",
    "df_tweets['TextBlob'] = pd.cut(df_tweets.polarity, bins=cut_bins, labels=cut_labels)"
   ]
  },
  {
   "cell_type": "code",
   "execution_count": 109,
   "metadata": {},
   "outputs": [
    {
     "data": {
      "text/plain": [
       "1     31053\n",
       "-1    14921\n",
       "0      8708\n",
       "Name: VADER, dtype: int64"
      ]
     },
     "execution_count": 109,
     "metadata": {},
     "output_type": "execute_result"
    }
   ],
   "source": [
    "df_tweets['VADER'].value_counts()"
   ]
  },
  {
   "cell_type": "code",
   "execution_count": 24,
   "metadata": {},
   "outputs": [
    {
     "data": {
      "text/html": [
       "<div>\n",
       "<style scoped>\n",
       "    .dataframe tbody tr th:only-of-type {\n",
       "        vertical-align: middle;\n",
       "    }\n",
       "\n",
       "    .dataframe tbody tr th {\n",
       "        vertical-align: top;\n",
       "    }\n",
       "\n",
       "    .dataframe thead th {\n",
       "        text-align: right;\n",
       "    }\n",
       "</style>\n",
       "<table border=\"1\" class=\"dataframe\">\n",
       "  <thead>\n",
       "    <tr style=\"text-align: right;\">\n",
       "      <th></th>\n",
       "      <th>id</th>\n",
       "      <th>text</th>\n",
       "      <th>isRetweet</th>\n",
       "      <th>isDeleted</th>\n",
       "      <th>device</th>\n",
       "      <th>favorites</th>\n",
       "      <th>retweets</th>\n",
       "      <th>date</th>\n",
       "      <th>isFlagged</th>\n",
       "      <th>retweeted</th>\n",
       "      <th>sentiment_text</th>\n",
       "      <th>subjectivity_score</th>\n",
       "      <th>polarity</th>\n",
       "      <th>sentiment_vader</th>\n",
       "      <th>rate</th>\n",
       "      <th>VADER</th>\n",
       "      <th>TextBlob</th>\n",
       "    </tr>\n",
       "  </thead>\n",
       "  <tbody>\n",
       "    <tr>\n",
       "      <th>0</th>\n",
       "      <td>98454970654916608</td>\n",
       "      <td>Republicans and Democrats have both created ou...</td>\n",
       "      <td>f</td>\n",
       "      <td>f</td>\n",
       "      <td>TweetDeck</td>\n",
       "      <td>49</td>\n",
       "      <td>255</td>\n",
       "      <td>2011-08-02 18:07:48</td>\n",
       "      <td>f</td>\n",
       "      <td>False</td>\n",
       "      <td>republicans democrats created economic problems</td>\n",
       "      <td>0.200000</td>\n",
       "      <td>0.200000</td>\n",
       "      <td>-0.1779</td>\n",
       "      <td>0</td>\n",
       "      <td>-1</td>\n",
       "      <td>1</td>\n",
       "    </tr>\n",
       "    <tr>\n",
       "      <th>1</th>\n",
       "      <td>1234653427789070336</td>\n",
       "      <td>I was thrilled to be back in the Great city of...</td>\n",
       "      <td>f</td>\n",
       "      <td>f</td>\n",
       "      <td>Twitter for iPhone</td>\n",
       "      <td>73748</td>\n",
       "      <td>17404</td>\n",
       "      <td>2020-03-03 01:34:50</td>\n",
       "      <td>f</td>\n",
       "      <td>False</td>\n",
       "      <td>thrilled_back great city charlotte north_carol...</td>\n",
       "      <td>0.483333</td>\n",
       "      <td>0.450000</td>\n",
       "      <td>0.9771</td>\n",
       "      <td>1</td>\n",
       "      <td>1</td>\n",
       "      <td>1</td>\n",
       "    </tr>\n",
       "    <tr>\n",
       "      <th>2</th>\n",
       "      <td>1218010753434820614</td>\n",
       "      <td>RT @CBS_Herridge: READ: Letter to surveillance...</td>\n",
       "      <td>t</td>\n",
       "      <td>f</td>\n",
       "      <td>Twitter for iPhone</td>\n",
       "      <td>0</td>\n",
       "      <td>7396</td>\n",
       "      <td>2020-01-17 03:22:47</td>\n",
       "      <td>f</td>\n",
       "      <td>True</td>\n",
       "      <td>read letter surveillance court obtained cbs ne...</td>\n",
       "      <td>0.100000</td>\n",
       "      <td>0.100000</td>\n",
       "      <td>0.0000</td>\n",
       "      <td>0</td>\n",
       "      <td>0</td>\n",
       "      <td>1</td>\n",
       "    </tr>\n",
       "    <tr>\n",
       "      <th>3</th>\n",
       "      <td>1304875170860015617</td>\n",
       "      <td>The Unsolicited Mail In Ballot Scam is a major...</td>\n",
       "      <td>f</td>\n",
       "      <td>f</td>\n",
       "      <td>Twitter for iPhone</td>\n",
       "      <td>80527</td>\n",
       "      <td>23502</td>\n",
       "      <td>2020-09-12 20:10:58</td>\n",
       "      <td>f</td>\n",
       "      <td>False</td>\n",
       "      <td>unsolicited mail_ballot scam major threat demo...</td>\n",
       "      <td>0.454762</td>\n",
       "      <td>0.029464</td>\n",
       "      <td>-0.9552</td>\n",
       "      <td>0</td>\n",
       "      <td>-1</td>\n",
       "      <td>1</td>\n",
       "    </tr>\n",
       "    <tr>\n",
       "      <th>4</th>\n",
       "      <td>1218159531554897920</td>\n",
       "      <td>RT @MZHemingway: Very friendly telling of even...</td>\n",
       "      <td>t</td>\n",
       "      <td>f</td>\n",
       "      <td>Twitter for iPhone</td>\n",
       "      <td>0</td>\n",
       "      <td>9081</td>\n",
       "      <td>2020-01-17 13:13:59</td>\n",
       "      <td>f</td>\n",
       "      <td>True</td>\n",
       "      <td>friendly telling events comey apparent leaking...</td>\n",
       "      <td>0.425000</td>\n",
       "      <td>0.212500</td>\n",
       "      <td>0.4939</td>\n",
       "      <td>1</td>\n",
       "      <td>1</td>\n",
       "      <td>1</td>\n",
       "    </tr>\n",
       "  </tbody>\n",
       "</table>\n",
       "</div>"
      ],
      "text/plain": [
       "                    id                                               text  \\\n",
       "0    98454970654916608  Republicans and Democrats have both created ou...   \n",
       "1  1234653427789070336  I was thrilled to be back in the Great city of...   \n",
       "2  1218010753434820614  RT @CBS_Herridge: READ: Letter to surveillance...   \n",
       "3  1304875170860015617  The Unsolicited Mail In Ballot Scam is a major...   \n",
       "4  1218159531554897920  RT @MZHemingway: Very friendly telling of even...   \n",
       "\n",
       "  isRetweet isDeleted              device  favorites  retweets  \\\n",
       "0         f         f           TweetDeck         49       255   \n",
       "1         f         f  Twitter for iPhone      73748     17404   \n",
       "2         t         f  Twitter for iPhone          0      7396   \n",
       "3         f         f  Twitter for iPhone      80527     23502   \n",
       "4         t         f  Twitter for iPhone          0      9081   \n",
       "\n",
       "                  date isFlagged  retweeted  \\\n",
       "0  2011-08-02 18:07:48         f      False   \n",
       "1  2020-03-03 01:34:50         f      False   \n",
       "2  2020-01-17 03:22:47         f       True   \n",
       "3  2020-09-12 20:10:58         f      False   \n",
       "4  2020-01-17 13:13:59         f       True   \n",
       "\n",
       "                                      sentiment_text  subjectivity_score  \\\n",
       "0    republicans democrats created economic problems            0.200000   \n",
       "1  thrilled_back great city charlotte north_carol...            0.483333   \n",
       "2  read letter surveillance court obtained cbs ne...            0.100000   \n",
       "3  unsolicited mail_ballot scam major threat demo...            0.454762   \n",
       "4  friendly telling events comey apparent leaking...            0.425000   \n",
       "\n",
       "   polarity  sentiment_vader rate VADER TextBlob  \n",
       "0  0.200000          -0.1779    0    -1        1  \n",
       "1  0.450000           0.9771    1     1        1  \n",
       "2  0.100000           0.0000    0     0        1  \n",
       "3  0.029464          -0.9552    0    -1        1  \n",
       "4  0.212500           0.4939    1     1        1  "
      ]
     },
     "execution_count": 24,
     "metadata": {},
     "output_type": "execute_result"
    }
   ],
   "source": [
    "df_tweets.head()"
   ]
  },
  {
   "cell_type": "code",
   "execution_count": 25,
   "metadata": {},
   "outputs": [],
   "source": [
    "df_tweets[['sentiment_text', 'VADER', 'TextBlob']].to_csv('../output/cleaned_dataset.csv', index=False)"
   ]
  },
  {
   "cell_type": "code",
   "execution_count": 26,
   "metadata": {},
   "outputs": [],
   "source": [
    "final_file = pd.read_csv('../output/cleaned_dataset.csv')\n",
    "sentiment_map = pd.read_csv('../output/sentiment_dictionary.csv')\n",
    "sentiment_dict = dict(zip(sentiment_map.words.values, sentiment_map.sentiment_coeff.values))"
   ]
  },
  {
   "cell_type": "code",
   "execution_count": 27,
   "metadata": {},
   "outputs": [],
   "source": [
    "file_weighting = final_file.copy()"
   ]
  },
  {
   "cell_type": "code",
   "execution_count": 28,
   "metadata": {},
   "outputs": [
    {
     "name": "stderr",
     "output_type": "stream",
     "text": [
      "/Users/darylkow/.pyenv/versions/3.8.5/lib/python3.8/site-packages/sklearn/feature_extraction/text.py:484: UserWarning: The parameter 'token_pattern' will not be used since 'tokenizer' is not None'\n",
      "  warnings.warn(\"The parameter 'token_pattern' will not be used\"\n"
     ]
    }
   ],
   "source": [
    "tfidf = TfidfVectorizer(tokenizer=lambda y: y.split(), norm=None)\n",
    "tfidf.fit(file_weighting.sentiment_text)\n",
    "features = pd.Series(tfidf.get_feature_names())\n",
    "transformed = tfidf.transform(file_weighting.sentiment_text)"
   ]
  },
  {
   "cell_type": "code",
   "execution_count": 29,
   "metadata": {},
   "outputs": [],
   "source": [
    "def create_tfidf_dictionary(x, transformed_file, features):\n",
    "    '''\n",
    "    create dictionary for each input sentence x, where each word has assigned its tfidf score\n",
    "    \n",
    "    inspired  by function from this wonderful article: \n",
    "    https://medium.com/analytics-vidhya/automated-keyword-extraction-from-articles-using-nlp-bfd864f41b34\n",
    "    \n",
    "    x - row of dataframe, containing sentences, and their indexes,\n",
    "    transformed_file - all sentences transformed with TfidfVectorizer\n",
    "    features - names of all words in corpus used in TfidfVectorizer\n",
    "\n",
    "    '''\n",
    "    vector_coo = transformed_file[x.name].tocoo()\n",
    "    vector_coo.col = features.iloc[vector_coo.col].values\n",
    "    dict_from_coo = dict(zip(vector_coo.col, vector_coo.data))\n",
    "    return dict_from_coo\n",
    "\n",
    "def replace_tfidf_words(x, transformed_file, features):\n",
    "    '''\n",
    "    replacing each word with it's calculated tfidf dictionary with scores of each word\n",
    "    x - row of dataframe, containing sentences, and their indexes,\n",
    "    transformed_file - all sentences transformed with TfidfVectorizer\n",
    "    features - names of all words in corpus used in TfidfVectorizer\n",
    "    '''\n",
    "    dictionary = create_tfidf_dictionary(x, transformed_file, features)   \n",
    "    return list(map(lambda y:dictionary[f'{y}'], x.sentiment_text.split()))"
   ]
  },
  {
   "cell_type": "code",
   "execution_count": 30,
   "metadata": {},
   "outputs": [
    {
     "name": "stdout",
     "output_type": "stream",
     "text": [
      "CPU times: user 18.2 s, sys: 408 ms, total: 18.6 s\n",
      "Wall time: 29.4 s\n"
     ]
    }
   ],
   "source": [
    "%%time\n",
    "replaced_tfidf_scores = file_weighting.apply(lambda x: replace_tfidf_words(x, transformed, features), axis=1)#this step takes around 3-4 minutes minutes to calculate"
   ]
  },
  {
   "cell_type": "code",
   "execution_count": 31,
   "metadata": {},
   "outputs": [],
   "source": [
    "def replace_sentiment_words(word, sentiment_dict):\n",
    "    '''\n",
    "    replacing each word with its associated sentiment score from sentiment dict\n",
    "    '''\n",
    "    try:\n",
    "        out = sentiment_dict[word]\n",
    "    except KeyError:\n",
    "        out = 0\n",
    "    return out"
   ]
  },
  {
   "cell_type": "code",
   "execution_count": 32,
   "metadata": {},
   "outputs": [],
   "source": [
    "replaced_closeness_scores = file_weighting.sentiment_text.apply(lambda x: list(map(lambda y: replace_sentiment_words(y, sentiment_dict), x.split())))"
   ]
  },
  {
   "cell_type": "code",
   "execution_count": 60,
   "metadata": {},
   "outputs": [],
   "source": [
    "replacement_df = pd.DataFrame(data=[replaced_closeness_scores, replaced_tfidf_scores, file_weighting.sentiment_text, file_weighting.VADER]).T\n",
    "replacement_df.columns = ['sentiment_coeff', 'tfidf_scores', 'sentence', 'sentiment']\n",
    "replacement_df['sentiment_rate'] = replacement_df.apply(lambda x: np.array(x.loc['sentiment_coeff']) @ np.array(x.loc['tfidf_scores']), axis=1)\n",
    "replacement_df['prediction'] = (replacement_df.sentiment_rate>0).astype('int8')\n",
    "replacement_df['sentiment'] = [1 if i==1 else -1 for i in replacement_df.sentiment]\n",
    "replacement_df['prediction'].replace(0,-1, inplace=True)"
   ]
  },
  {
   "cell_type": "code",
   "execution_count": 61,
   "metadata": {},
   "outputs": [
    {
     "data": {
      "text/html": [
       "<div>\n",
       "<style scoped>\n",
       "    .dataframe tbody tr th:only-of-type {\n",
       "        vertical-align: middle;\n",
       "    }\n",
       "\n",
       "    .dataframe tbody tr th {\n",
       "        vertical-align: top;\n",
       "    }\n",
       "\n",
       "    .dataframe thead th {\n",
       "        text-align: right;\n",
       "    }\n",
       "</style>\n",
       "<table border=\"1\" class=\"dataframe\">\n",
       "  <thead>\n",
       "    <tr style=\"text-align: right;\">\n",
       "      <th></th>\n",
       "      <th>sentiment_coeff</th>\n",
       "      <th>tfidf_scores</th>\n",
       "      <th>sentence</th>\n",
       "      <th>sentiment</th>\n",
       "      <th>sentiment_rate</th>\n",
       "      <th>prediction</th>\n",
       "    </tr>\n",
       "  </thead>\n",
       "  <tbody>\n",
       "    <tr>\n",
       "      <th>0</th>\n",
       "      <td>[1.0004797645770611, -0.9995376825890552, -1.0...</td>\n",
       "      <td>[5.489313225852887, 4.588119597260551, 7.28433...</td>\n",
       "      <td>republicans democrats created economic problems</td>\n",
       "      <td>-1</td>\n",
       "      <td>-6.283310</td>\n",
       "      <td>-1</td>\n",
       "    </tr>\n",
       "    <tr>\n",
       "      <th>1</th>\n",
       "      <td>[1.0034141754865609, -0.999820721067766, -1.00...</td>\n",
       "      <td>[9.076094809943813, 3.1857514113095995, 6.2961...</td>\n",
       "      <td>thrilled_back great city charlotte north_carol...</td>\n",
       "      <td>1</td>\n",
       "      <td>-10.118378</td>\n",
       "      <td>-1</td>\n",
       "    </tr>\n",
       "    <tr>\n",
       "      <th>2</th>\n",
       "      <td>[-1.0009888161233522, -1.0053372540964565, 0.9...</td>\n",
       "      <td>[6.166304966190547, 7.565502732146346, 8.38294...</td>\n",
       "      <td>read letter surveillance court obtained cbs ne...</td>\n",
       "      <td>-1</td>\n",
       "      <td>-8.373921</td>\n",
       "      <td>-1</td>\n",
       "    </tr>\n",
       "    <tr>\n",
       "      <th>3</th>\n",
       "      <td>[-1.000285512291096, 0.9994086307256714, -1.00...</td>\n",
       "      <td>[9.51141288120166, 8.91357588044604, 6.9966532...</td>\n",
       "      <td>unsolicited mail_ballot scam major threat demo...</td>\n",
       "      <td>-1</td>\n",
       "      <td>-3.331732</td>\n",
       "      <td>-1</td>\n",
       "    </tr>\n",
       "    <tr>\n",
       "      <th>4</th>\n",
       "      <td>[-1.0029918101765711, 0.9995721957372308, 1.00...</td>\n",
       "      <td>[8.6134712879957, 7.632642034983974, 7.6898004...</td>\n",
       "      <td>friendly telling events comey apparent leaking...</td>\n",
       "      <td>1</td>\n",
       "      <td>12.106227</td>\n",
       "      <td>1</td>\n",
       "    </tr>\n",
       "  </tbody>\n",
       "</table>\n",
       "</div>"
      ],
      "text/plain": [
       "                                     sentiment_coeff  \\\n",
       "0  [1.0004797645770611, -0.9995376825890552, -1.0...   \n",
       "1  [1.0034141754865609, -0.999820721067766, -1.00...   \n",
       "2  [-1.0009888161233522, -1.0053372540964565, 0.9...   \n",
       "3  [-1.000285512291096, 0.9994086307256714, -1.00...   \n",
       "4  [-1.0029918101765711, 0.9995721957372308, 1.00...   \n",
       "\n",
       "                                        tfidf_scores  \\\n",
       "0  [5.489313225852887, 4.588119597260551, 7.28433...   \n",
       "1  [9.076094809943813, 3.1857514113095995, 6.2961...   \n",
       "2  [6.166304966190547, 7.565502732146346, 8.38294...   \n",
       "3  [9.51141288120166, 8.91357588044604, 6.9966532...   \n",
       "4  [8.6134712879957, 7.632642034983974, 7.6898004...   \n",
       "\n",
       "                                            sentence  sentiment  \\\n",
       "0    republicans democrats created economic problems         -1   \n",
       "1  thrilled_back great city charlotte north_carol...          1   \n",
       "2  read letter surveillance court obtained cbs ne...         -1   \n",
       "3  unsolicited mail_ballot scam major threat demo...         -1   \n",
       "4  friendly telling events comey apparent leaking...          1   \n",
       "\n",
       "   sentiment_rate  prediction  \n",
       "0       -6.283310          -1  \n",
       "1      -10.118378          -1  \n",
       "2       -8.373921          -1  \n",
       "3       -3.331732          -1  \n",
       "4       12.106227           1  "
      ]
     },
     "execution_count": 61,
     "metadata": {},
     "output_type": "execute_result"
    }
   ],
   "source": [
    "replacement_df.head()"
   ]
  },
  {
   "cell_type": "code",
   "execution_count": 38,
   "metadata": {},
   "outputs": [
    {
     "data": {
      "text/plain": [
       "1    28005\n",
       "0    26677\n",
       "Name: prediction, dtype: int64"
      ]
     },
     "execution_count": 38,
     "metadata": {},
     "output_type": "execute_result"
    }
   ],
   "source": [
    "replacement_df.prediction.value_counts()"
   ]
  },
  {
   "cell_type": "code",
   "execution_count": 39,
   "metadata": {},
   "outputs": [
    {
     "data": {
      "text/plain": [
       "<AxesSubplot:>"
      ]
     },
     "execution_count": 39,
     "metadata": {},
     "output_type": "execute_result"
    },
    {
     "data": {
      "image/png": "[encoded data removed]",
      "text/plain": [
       "<Figure size 432x288 with 1 Axes>"
      ]
     },
     "metadata": {
      "needs_background": "light"
     },
     "output_type": "display_data"
    }
   ],
   "source": [
    "replacement_df.prediction.value_counts().plot(kind='bar',\n",
    "                                              rot=0)"
   ]
  },
  {
   "cell_type": "code",
   "execution_count": 114,
   "metadata": {},
   "outputs": [
    {
     "data": {
      "text/html": [
       "<div>\n",
       "<style scoped>\n",
       "    .dataframe tbody tr th:only-of-type {\n",
       "        vertical-align: middle;\n",
       "    }\n",
       "\n",
       "    .dataframe tbody tr th {\n",
       "        vertical-align: top;\n",
       "    }\n",
       "\n",
       "    .dataframe thead th {\n",
       "        text-align: right;\n",
       "    }\n",
       "</style>\n",
       "<table border=\"1\" class=\"dataframe\">\n",
       "  <thead>\n",
       "    <tr style=\"text-align: right;\">\n",
       "      <th></th>\n",
       "      <th>id</th>\n",
       "      <th>text</th>\n",
       "      <th>isRetweet</th>\n",
       "      <th>isDeleted</th>\n",
       "      <th>device</th>\n",
       "      <th>favorites</th>\n",
       "      <th>retweets</th>\n",
       "      <th>date</th>\n",
       "      <th>isFlagged</th>\n",
       "      <th>retweeted</th>\n",
       "      <th>sentiment_text</th>\n",
       "      <th>subjectivity_score</th>\n",
       "      <th>polarity</th>\n",
       "      <th>sentiment_vader</th>\n",
       "      <th>rate</th>\n",
       "      <th>VADER</th>\n",
       "      <th>TextBlob</th>\n",
       "    </tr>\n",
       "  </thead>\n",
       "  <tbody>\n",
       "    <tr>\n",
       "      <th>0</th>\n",
       "      <td>98454970654916608</td>\n",
       "      <td>Republicans and Democrats have both created ou...</td>\n",
       "      <td>f</td>\n",
       "      <td>f</td>\n",
       "      <td>TweetDeck</td>\n",
       "      <td>49</td>\n",
       "      <td>255</td>\n",
       "      <td>2011-08-02 18:07:48</td>\n",
       "      <td>f</td>\n",
       "      <td>False</td>\n",
       "      <td>republicans democrats created economic problems</td>\n",
       "      <td>0.200000</td>\n",
       "      <td>0.200000</td>\n",
       "      <td>-0.1779</td>\n",
       "      <td>0</td>\n",
       "      <td>-1</td>\n",
       "      <td>1</td>\n",
       "    </tr>\n",
       "    <tr>\n",
       "      <th>1</th>\n",
       "      <td>1234653427789070336</td>\n",
       "      <td>I was thrilled to be back in the Great city of...</td>\n",
       "      <td>f</td>\n",
       "      <td>f</td>\n",
       "      <td>Twitter for iPhone</td>\n",
       "      <td>73748</td>\n",
       "      <td>17404</td>\n",
       "      <td>2020-03-03 01:34:50</td>\n",
       "      <td>f</td>\n",
       "      <td>False</td>\n",
       "      <td>thrilled_back great city charlotte north_carol...</td>\n",
       "      <td>0.483333</td>\n",
       "      <td>0.450000</td>\n",
       "      <td>0.9771</td>\n",
       "      <td>1</td>\n",
       "      <td>1</td>\n",
       "      <td>1</td>\n",
       "    </tr>\n",
       "    <tr>\n",
       "      <th>2</th>\n",
       "      <td>1218010753434820614</td>\n",
       "      <td>RT @CBS_Herridge: READ: Letter to surveillance...</td>\n",
       "      <td>t</td>\n",
       "      <td>f</td>\n",
       "      <td>Twitter for iPhone</td>\n",
       "      <td>0</td>\n",
       "      <td>7396</td>\n",
       "      <td>2020-01-17 03:22:47</td>\n",
       "      <td>f</td>\n",
       "      <td>True</td>\n",
       "      <td>read letter surveillance court obtained cbs ne...</td>\n",
       "      <td>0.100000</td>\n",
       "      <td>0.100000</td>\n",
       "      <td>0.0000</td>\n",
       "      <td>0</td>\n",
       "      <td>0</td>\n",
       "      <td>1</td>\n",
       "    </tr>\n",
       "    <tr>\n",
       "      <th>3</th>\n",
       "      <td>1304875170860015617</td>\n",
       "      <td>The Unsolicited Mail In Ballot Scam is a major...</td>\n",
       "      <td>f</td>\n",
       "      <td>f</td>\n",
       "      <td>Twitter for iPhone</td>\n",
       "      <td>80527</td>\n",
       "      <td>23502</td>\n",
       "      <td>2020-09-12 20:10:58</td>\n",
       "      <td>f</td>\n",
       "      <td>False</td>\n",
       "      <td>unsolicited mail_ballot scam major threat demo...</td>\n",
       "      <td>0.454762</td>\n",
       "      <td>0.029464</td>\n",
       "      <td>-0.9552</td>\n",
       "      <td>0</td>\n",
       "      <td>-1</td>\n",
       "      <td>1</td>\n",
       "    </tr>\n",
       "    <tr>\n",
       "      <th>4</th>\n",
       "      <td>1218159531554897920</td>\n",
       "      <td>RT @MZHemingway: Very friendly telling of even...</td>\n",
       "      <td>t</td>\n",
       "      <td>f</td>\n",
       "      <td>Twitter for iPhone</td>\n",
       "      <td>0</td>\n",
       "      <td>9081</td>\n",
       "      <td>2020-01-17 13:13:59</td>\n",
       "      <td>f</td>\n",
       "      <td>True</td>\n",
       "      <td>friendly telling events comey apparent leaking...</td>\n",
       "      <td>0.425000</td>\n",
       "      <td>0.212500</td>\n",
       "      <td>0.4939</td>\n",
       "      <td>1</td>\n",
       "      <td>1</td>\n",
       "      <td>1</td>\n",
       "    </tr>\n",
       "  </tbody>\n",
       "</table>\n",
       "</div>"
      ],
      "text/plain": [
       "                    id                                               text  \\\n",
       "0    98454970654916608  Republicans and Democrats have both created ou...   \n",
       "1  1234653427789070336  I was thrilled to be back in the Great city of...   \n",
       "2  1218010753434820614  RT @CBS_Herridge: READ: Letter to surveillance...   \n",
       "3  1304875170860015617  The Unsolicited Mail In Ballot Scam is a major...   \n",
       "4  1218159531554897920  RT @MZHemingway: Very friendly telling of even...   \n",
       "\n",
       "  isRetweet isDeleted              device  favorites  retweets  \\\n",
       "0         f         f           TweetDeck         49       255   \n",
       "1         f         f  Twitter for iPhone      73748     17404   \n",
       "2         t         f  Twitter for iPhone          0      7396   \n",
       "3         f         f  Twitter for iPhone      80527     23502   \n",
       "4         t         f  Twitter for iPhone          0      9081   \n",
       "\n",
       "                  date isFlagged  retweeted  \\\n",
       "0  2011-08-02 18:07:48         f      False   \n",
       "1  2020-03-03 01:34:50         f      False   \n",
       "2  2020-01-17 03:22:47         f       True   \n",
       "3  2020-09-12 20:10:58         f      False   \n",
       "4  2020-01-17 13:13:59         f       True   \n",
       "\n",
       "                                      sentiment_text  subjectivity_score  \\\n",
       "0    republicans democrats created economic problems            0.200000   \n",
       "1  thrilled_back great city charlotte north_carol...            0.483333   \n",
       "2  read letter surveillance court obtained cbs ne...            0.100000   \n",
       "3  unsolicited mail_ballot scam major threat demo...            0.454762   \n",
       "4  friendly telling events comey apparent leaking...            0.425000   \n",
       "\n",
       "   polarity  sentiment_vader rate VADER TextBlob  \n",
       "0  0.200000          -0.1779    0    -1        1  \n",
       "1  0.450000           0.9771    1     1        1  \n",
       "2  0.100000           0.0000    0     0        1  \n",
       "3  0.029464          -0.9552    0    -1        1  \n",
       "4  0.212500           0.4939    1     1        1  "
      ]
     },
     "execution_count": 114,
     "metadata": {},
     "output_type": "execute_result"
    }
   ],
   "source": [
    "df_tweets.head()"
   ]
  },
  {
   "cell_type": "code",
   "execution_count": 210,
   "metadata": {},
   "outputs": [],
   "source": [
    "df_merged = pd.concat([df_tweets, replacement_df], axis=1)\n",
    "df_merged.rename(columns={\"prediction\": \"W2V-kNN\"}, inplace=True)\n",
    "df_final = df_merged.iloc[:,[1,10,11,15,16,-1]]"
   ]
  },
  {
   "cell_type": "code",
   "execution_count": 211,
   "metadata": {},
   "outputs": [
    {
     "name": "stdout",
     "output_type": "stream",
     "text": [
      "<class 'pandas.core.frame.DataFrame'>\n",
      "Int64Index: 56506 entries, 0 to 56570\n",
      "Data columns (total 6 columns):\n",
      " #   Column              Non-Null Count  Dtype   \n",
      "---  ------              --------------  -----   \n",
      " 0   text                54682 non-null  object  \n",
      " 1   sentiment_text      54682 non-null  object  \n",
      " 2   subjectivity_score  54682 non-null  float64 \n",
      " 3   VADER               54682 non-null  category\n",
      " 4   TextBlob            54430 non-null  category\n",
      " 5   W2V-kNN             54682 non-null  float64 \n",
      "dtypes: category(2), float64(2), object(2)\n",
      "memory usage: 2.3+ MB\n"
     ]
    }
   ],
   "source": [
    "df_final.info()"
   ]
  },
  {
   "cell_type": "code",
   "execution_count": 212,
   "metadata": {},
   "outputs": [
    {
     "name": "stderr",
     "output_type": "stream",
     "text": [
      "<ipython-input-212-bdbf950dc954>:1: SettingWithCopyWarning: \n",
      "A value is trying to be set on a copy of a slice from a DataFrame\n",
      "\n",
      "See the caveats in the documentation: https://pandas.pydata.org/pandas-docs/stable/user_guide/indexing.html#returning-a-view-versus-a-copy\n",
      "  df_final.dropna(how='any', inplace=True)\n",
      "/Users/darylkow/.pyenv/versions/3.8.5/lib/python3.8/site-packages/pandas/core/generic.py:5170: SettingWithCopyWarning: \n",
      "A value is trying to be set on a copy of a slice from a DataFrame.\n",
      "Try using .loc[row_indexer,col_indexer] = value instead\n",
      "\n",
      "See the caveats in the documentation: https://pandas.pydata.org/pandas-docs/stable/user_guide/indexing.html#returning-a-view-versus-a-copy\n",
      "  self[name] = value\n",
      "<ipython-input-212-bdbf950dc954>:4: SettingWithCopyWarning: \n",
      "A value is trying to be set on a copy of a slice from a DataFrame.\n",
      "Try using .loc[row_indexer,col_indexer] = value instead\n",
      "\n",
      "See the caveats in the documentation: https://pandas.pydata.org/pandas-docs/stable/user_guide/indexing.html#returning-a-view-versus-a-copy\n",
      "  df_final['W2V-kNN'] = df_final['W2V-kNN'].astype(int)\n"
     ]
    }
   ],
   "source": [
    "df_final.dropna(how='any', inplace=True)\n",
    "df_final.VADER = df_final.VADER.astype(int)\n",
    "df_final.TextBlob = df_final.TextBlob.cat.codes - 1\n",
    "df_final['W2V-kNN'] = df_final['W2V-kNN'].astype(int)"
   ]
  },
  {
   "cell_type": "code",
   "execution_count": 213,
   "metadata": {},
   "outputs": [
    {
     "name": "stdout",
     "output_type": "stream",
     "text": [
      "<class 'pandas.core.frame.DataFrame'>\n",
      "Int64Index: 52608 entries, 0 to 54681\n",
      "Data columns (total 6 columns):\n",
      " #   Column              Non-Null Count  Dtype  \n",
      "---  ------              --------------  -----  \n",
      " 0   text                52608 non-null  object \n",
      " 1   sentiment_text      52608 non-null  object \n",
      " 2   subjectivity_score  52608 non-null  float64\n",
      " 3   VADER               52608 non-null  int64  \n",
      " 4   TextBlob            52608 non-null  int8   \n",
      " 5   W2V-kNN             52608 non-null  int64  \n",
      "dtypes: float64(1), int64(2), int8(1), object(2)\n",
      "memory usage: 2.5+ MB\n"
     ]
    }
   ],
   "source": [
    "df_final.info()"
   ]
  },
  {
   "cell_type": "code",
   "execution_count": 214,
   "metadata": {},
   "outputs": [
    {
     "name": "stderr",
     "output_type": "stream",
     "text": [
      "<ipython-input-214-62f24c0e67c7>:1: SettingWithCopyWarning: \n",
      "A value is trying to be set on a copy of a slice from a DataFrame.\n",
      "Try using .loc[row_indexer,col_indexer] = value instead\n",
      "\n",
      "See the caveats in the documentation: https://pandas.pydata.org/pandas-docs/stable/user_guide/indexing.html#returning-a-view-versus-a-copy\n",
      "  df_final['Final'] = (df_final.VADER + df_final.TextBlob + df_final['W2V-kNN'])/3\n"
     ]
    }
   ],
   "source": [
    "df_final['Final'] = (df_final.VADER + df_final.TextBlob + df_final['W2V-kNN'])/3"
   ]
  },
  {
   "cell_type": "code",
   "execution_count": 215,
   "metadata": {},
   "outputs": [
    {
     "name": "stderr",
     "output_type": "stream",
     "text": [
      "<ipython-input-215-03855659e3aa>:3: SettingWithCopyWarning: \n",
      "A value is trying to be set on a copy of a slice from a DataFrame.\n",
      "Try using .loc[row_indexer,col_indexer] = value instead\n",
      "\n",
      "See the caveats in the documentation: https://pandas.pydata.org/pandas-docs/stable/user_guide/indexing.html#returning-a-view-versus-a-copy\n",
      "  df_final['Final'] = pd.cut(df_final['Final'], bins=cut_bins, labels=cut_labels)\n"
     ]
    }
   ],
   "source": [
    "cut_labels = [-1, 0, 1]\n",
    "cut_bins = [-100, -0.00001, 0.00001, 100]\n",
    "df_final['Final'] = pd.cut(df_final['Final'], bins=cut_bins, labels=cut_labels)"
   ]
  },
  {
   "cell_type": "code",
   "execution_count": 216,
   "metadata": {},
   "outputs": [
    {
     "data": {
      "text/plain": [
       "1     31934\n",
       "-1    14439\n",
       "0      6235\n",
       "Name: Final, dtype: int64"
      ]
     },
     "execution_count": 216,
     "metadata": {},
     "output_type": "execute_result"
    }
   ],
   "source": [
    "df_final['Final'].value_counts()"
   ]
  },
  {
   "cell_type": "code",
   "execution_count": 217,
   "metadata": {},
   "outputs": [
    {
     "data": {
      "text/plain": [
       "<AxesSubplot:>"
      ]
     },
     "execution_count": 217,
     "metadata": {},
     "output_type": "execute_result"
    },
    {
     "data": {
      "image/png": "[encoded data removed]",
      "text/plain": [
       "<Figure size 432x288 with 1 Axes>"
      ]
     },
     "metadata": {
      "needs_background": "light"
     },
     "output_type": "display_data"
    }
   ],
   "source": [
    "df_final['Final'].value_counts().plot(kind='bar')"
   ]
  },
  {
   "cell_type": "code",
   "execution_count": 218,
   "metadata": {},
   "outputs": [
    {
     "name": "stdout",
     "output_type": "stream",
     "text": [
      "<class 'pandas.core.frame.DataFrame'>\n",
      "Int64Index: 52608 entries, 0 to 54681\n",
      "Data columns (total 7 columns):\n",
      " #   Column              Non-Null Count  Dtype   \n",
      "---  ------              --------------  -----   \n",
      " 0   text                52608 non-null  object  \n",
      " 1   sentiment_text      52608 non-null  object  \n",
      " 2   subjectivity_score  52608 non-null  float64 \n",
      " 3   VADER               52608 non-null  int64   \n",
      " 4   TextBlob            52608 non-null  int8    \n",
      " 5   W2V-kNN             52608 non-null  int64   \n",
      " 6   Final               52608 non-null  category\n",
      "dtypes: category(1), float64(1), int64(2), int8(1), object(2)\n",
      "memory usage: 2.5+ MB\n"
     ]
    }
   ],
   "source": [
    "df_final.info()"
   ]
  },
  {
   "cell_type": "code",
   "execution_count": 219,
   "metadata": {},
   "outputs": [
    {
     "data": {
      "text/html": [
       "<div>\n",
       "<style scoped>\n",
       "    .dataframe tbody tr th:only-of-type {\n",
       "        vertical-align: middle;\n",
       "    }\n",
       "\n",
       "    .dataframe tbody tr th {\n",
       "        vertical-align: top;\n",
       "    }\n",
       "\n",
       "    .dataframe thead th {\n",
       "        text-align: right;\n",
       "    }\n",
       "</style>\n",
       "<table border=\"1\" class=\"dataframe\">\n",
       "  <thead>\n",
       "    <tr style=\"text-align: right;\">\n",
       "      <th></th>\n",
       "      <th>text</th>\n",
       "      <th>sentiment_text</th>\n",
       "      <th>subjectivity_score</th>\n",
       "      <th>VADER</th>\n",
       "      <th>TextBlob</th>\n",
       "      <th>W2V-kNN</th>\n",
       "      <th>Final</th>\n",
       "    </tr>\n",
       "  </thead>\n",
       "  <tbody>\n",
       "    <tr>\n",
       "      <th>0</th>\n",
       "      <td>Republicans and Democrats have both created ou...</td>\n",
       "      <td>republicans democrats created economic problems</td>\n",
       "      <td>0.200000</td>\n",
       "      <td>-1</td>\n",
       "      <td>1</td>\n",
       "      <td>-1</td>\n",
       "      <td>-1</td>\n",
       "    </tr>\n",
       "    <tr>\n",
       "      <th>1</th>\n",
       "      <td>I was thrilled to be back in the Great city of...</td>\n",
       "      <td>thrilled_back great city charlotte north_carol...</td>\n",
       "      <td>0.483333</td>\n",
       "      <td>1</td>\n",
       "      <td>1</td>\n",
       "      <td>-1</td>\n",
       "      <td>1</td>\n",
       "    </tr>\n",
       "    <tr>\n",
       "      <th>2</th>\n",
       "      <td>RT @CBS_Herridge: READ: Letter to surveillance...</td>\n",
       "      <td>read letter surveillance court obtained cbs ne...</td>\n",
       "      <td>0.100000</td>\n",
       "      <td>0</td>\n",
       "      <td>1</td>\n",
       "      <td>-1</td>\n",
       "      <td>0</td>\n",
       "    </tr>\n",
       "    <tr>\n",
       "      <th>3</th>\n",
       "      <td>The Unsolicited Mail In Ballot Scam is a major...</td>\n",
       "      <td>unsolicited mail_ballot scam major threat demo...</td>\n",
       "      <td>0.454762</td>\n",
       "      <td>-1</td>\n",
       "      <td>1</td>\n",
       "      <td>-1</td>\n",
       "      <td>-1</td>\n",
       "    </tr>\n",
       "    <tr>\n",
       "      <th>4</th>\n",
       "      <td>RT @MZHemingway: Very friendly telling of even...</td>\n",
       "      <td>friendly telling events comey apparent leaking...</td>\n",
       "      <td>0.425000</td>\n",
       "      <td>1</td>\n",
       "      <td>1</td>\n",
       "      <td>1</td>\n",
       "      <td>1</td>\n",
       "    </tr>\n",
       "    <tr>\n",
       "      <th>...</th>\n",
       "      <td>...</td>\n",
       "      <td>...</td>\n",
       "      <td>...</td>\n",
       "      <td>...</td>\n",
       "      <td>...</td>\n",
       "      <td>...</td>\n",
       "      <td>...</td>\n",
       "    </tr>\n",
       "    <tr>\n",
       "      <th>54677</th>\n",
       "      <td>RT @callme_Chari: @newscomauHQ If he’s anythin...</td>\n",
       "      <td>’ anything like trump congratulations leader l...</td>\n",
       "      <td>0.000000</td>\n",
       "      <td>1</td>\n",
       "      <td>0</td>\n",
       "      <td>-1</td>\n",
       "      <td>0</td>\n",
       "    </tr>\n",
       "    <tr>\n",
       "      <th>54678</th>\n",
       "      <td>Congratulations to Scott on a GREAT WIN! https...</td>\n",
       "      <td>congratulations scott great win</td>\n",
       "      <td>0.575000</td>\n",
       "      <td>1</td>\n",
       "      <td>1</td>\n",
       "      <td>1</td>\n",
       "      <td>1</td>\n",
       "    </tr>\n",
       "    <tr>\n",
       "      <th>54679</th>\n",
       "      <td>Our courageous and vigilant Armed Forces safeg...</td>\n",
       "      <td>courageous vigilant armed_forces safeguard ble...</td>\n",
       "      <td>0.562500</td>\n",
       "      <td>1</td>\n",
       "      <td>1</td>\n",
       "      <td>-1</td>\n",
       "      <td>1</td>\n",
       "    </tr>\n",
       "    <tr>\n",
       "      <th>54680</th>\n",
       "      <td>Consumer Sentiment in the month of May is the ...</td>\n",
       "      <td>consumer sentiment month may highest years nice</td>\n",
       "      <td>1.000000</td>\n",
       "      <td>1</td>\n",
       "      <td>1</td>\n",
       "      <td>-1</td>\n",
       "      <td>1</td>\n",
       "    </tr>\n",
       "    <tr>\n",
       "      <th>54681</th>\n",
       "      <td>Today, it was my great honor to address the th...</td>\n",
       "      <td>today great_honor address national association...</td>\n",
       "      <td>0.750000</td>\n",
       "      <td>1</td>\n",
       "      <td>1</td>\n",
       "      <td>1</td>\n",
       "      <td>1</td>\n",
       "    </tr>\n",
       "  </tbody>\n",
       "</table>\n",
       "<p>52608 rows × 7 columns</p>\n",
       "</div>"
      ],
      "text/plain": [
       "                                                    text  \\\n",
       "0      Republicans and Democrats have both created ou...   \n",
       "1      I was thrilled to be back in the Great city of...   \n",
       "2      RT @CBS_Herridge: READ: Letter to surveillance...   \n",
       "3      The Unsolicited Mail In Ballot Scam is a major...   \n",
       "4      RT @MZHemingway: Very friendly telling of even...   \n",
       "...                                                  ...   \n",
       "54677  RT @callme_Chari: @newscomauHQ If he’s anythin...   \n",
       "54678  Congratulations to Scott on a GREAT WIN! https...   \n",
       "54679  Our courageous and vigilant Armed Forces safeg...   \n",
       "54680  Consumer Sentiment in the month of May is the ...   \n",
       "54681  Today, it was my great honor to address the th...   \n",
       "\n",
       "                                          sentiment_text  subjectivity_score  \\\n",
       "0        republicans democrats created economic problems            0.200000   \n",
       "1      thrilled_back great city charlotte north_carol...            0.483333   \n",
       "2      read letter surveillance court obtained cbs ne...            0.100000   \n",
       "3      unsolicited mail_ballot scam major threat demo...            0.454762   \n",
       "4      friendly telling events comey apparent leaking...            0.425000   \n",
       "...                                                  ...                 ...   \n",
       "54677  ’ anything like trump congratulations leader l...            0.000000   \n",
       "54678                    congratulations scott great win            0.575000   \n",
       "54679  courageous vigilant armed_forces safeguard ble...            0.562500   \n",
       "54680    consumer sentiment month may highest years nice            1.000000   \n",
       "54681  today great_honor address national association...            0.750000   \n",
       "\n",
       "       VADER  TextBlob  W2V-kNN Final  \n",
       "0         -1         1       -1    -1  \n",
       "1          1         1       -1     1  \n",
       "2          0         1       -1     0  \n",
       "3         -1         1       -1    -1  \n",
       "4          1         1        1     1  \n",
       "...      ...       ...      ...   ...  \n",
       "54677      1         0       -1     0  \n",
       "54678      1         1        1     1  \n",
       "54679      1         1       -1     1  \n",
       "54680      1         1       -1     1  \n",
       "54681      1         1        1     1  \n",
       "\n",
       "[52608 rows x 7 columns]"
      ]
     },
     "execution_count": 219,
     "metadata": {},
     "output_type": "execute_result"
    }
   ],
   "source": [
    "df_final"
   ]
  },
  {
   "cell_type": "code",
   "execution_count": 221,
   "metadata": {},
   "outputs": [],
   "source": [
    "df_final.to_csv('../output/sentiment_labels.csv')"
   ]
  },
  {
   "cell_type": "code",
   "execution_count": 77,
   "metadata": {},
   "outputs": [
    {
     "name": "stdout",
     "output_type": "stream",
     "text": [
      "Confusion Matrix\n"
     ]
    },
    {
     "data": {
      "text/html": [
       "<div>\n",
       "<style scoped>\n",
       "    .dataframe tbody tr th:only-of-type {\n",
       "        vertical-align: middle;\n",
       "    }\n",
       "\n",
       "    .dataframe tbody tr th {\n",
       "        vertical-align: top;\n",
       "    }\n",
       "\n",
       "    .dataframe thead th {\n",
       "        text-align: right;\n",
       "    }\n",
       "</style>\n",
       "<table border=\"1\" class=\"dataframe\">\n",
       "  <thead>\n",
       "    <tr style=\"text-align: right;\">\n",
       "      <th></th>\n",
       "      <th>0</th>\n",
       "      <th>1</th>\n",
       "    </tr>\n",
       "  </thead>\n",
       "  <tbody>\n",
       "    <tr>\n",
       "      <th>0</th>\n",
       "      <td>10347</td>\n",
       "      <td>13282</td>\n",
       "    </tr>\n",
       "    <tr>\n",
       "      <th>1</th>\n",
       "      <td>14723</td>\n",
       "      <td>16330</td>\n",
       "    </tr>\n",
       "  </tbody>\n",
       "</table>\n",
       "</div>"
      ],
      "text/plain": [
       "       0      1\n",
       "0  10347  13282\n",
       "1  14723  16330"
      ]
     },
     "metadata": {},
     "output_type": "display_data"
    },
    {
     "name": "stdout",
     "output_type": "stream",
     "text": [
      "\n",
      " \n",
      " Scores\n"
     ]
    },
    {
     "data": {
      "text/html": [
       "<div>\n",
       "<style scoped>\n",
       "    .dataframe tbody tr th:only-of-type {\n",
       "        vertical-align: middle;\n",
       "    }\n",
       "\n",
       "    .dataframe tbody tr th {\n",
       "        vertical-align: top;\n",
       "    }\n",
       "\n",
       "    .dataframe thead th {\n",
       "        text-align: right;\n",
       "    }\n",
       "</style>\n",
       "<table border=\"1\" class=\"dataframe\">\n",
       "  <thead>\n",
       "    <tr style=\"text-align: right;\">\n",
       "      <th></th>\n",
       "      <th>scores</th>\n",
       "    </tr>\n",
       "  </thead>\n",
       "  <tbody>\n",
       "    <tr>\n",
       "      <th>accuracy</th>\n",
       "      <td>0.487857</td>\n",
       "    </tr>\n",
       "    <tr>\n",
       "      <th>precision</th>\n",
       "      <td>0.551466</td>\n",
       "    </tr>\n",
       "    <tr>\n",
       "      <th>recall</th>\n",
       "      <td>0.525875</td>\n",
       "    </tr>\n",
       "    <tr>\n",
       "      <th>f1</th>\n",
       "      <td>0.538366</td>\n",
       "    </tr>\n",
       "  </tbody>\n",
       "</table>\n",
       "</div>"
      ],
      "text/plain": [
       "             scores\n",
       "accuracy   0.487857\n",
       "precision  0.551466\n",
       "recall     0.525875\n",
       "f1         0.538366"
      ]
     },
     "metadata": {},
     "output_type": "display_data"
    }
   ],
   "source": [
    "predicted_classes = replacement_df.prediction\n",
    "y_test = replacement_df.sentiment\n",
    "\n",
    "conf_matrix = pd.DataFrame(confusion_matrix(replacement_df.sentiment, replacement_df.prediction))\n",
    "print('Confusion Matrix')\n",
    "display(conf_matrix)\n",
    "\n",
    "test_scores = accuracy_score(y_test,predicted_classes), precision_score(y_test, predicted_classes), recall_score(y_test, predicted_classes), f1_score(y_test, predicted_classes)\n",
    "\n",
    "print('\\n \\n Scores')\n",
    "scores = pd.DataFrame(data=[test_scores])\n",
    "scores.columns = ['accuracy', 'precision', 'recall', 'f1']\n",
    "scores = scores.T\n",
    "scores.columns = ['scores']\n",
    "display(scores)"
   ]
  }
 ],
 "metadata": {
  "kernelspec": {
   "display_name": "Python 3",
   "language": "python",
   "name": "python3"
  },
  "language_info": {
   "codemirror_mode": {
    "name": "ipython",
    "version": 3
   },
   "file_extension": ".py",
   "mimetype": "text/x-python",
   "name": "python",
   "nbconvert_exporter": "python",
   "pygments_lexer": "ipython3",
   "version": "3.8.5"
  }
 },
 "nbformat": 4,
 "nbformat_minor": 4
}
